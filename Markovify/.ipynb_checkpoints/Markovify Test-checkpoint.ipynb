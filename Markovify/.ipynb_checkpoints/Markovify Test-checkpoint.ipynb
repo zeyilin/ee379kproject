{
 "cells": [
  {
   "cell_type": "code",
   "execution_count": 102,
   "metadata": {},
   "outputs": [],
   "source": [
    "import csv\n",
    "import string\n",
    "import markovify\n",
    "import shelve\n",
    "import random\n",
    "import time\n",
    "import HTMLParser\n",
    "import re\n",
    "import spacy\n",
    "import random\n",
    "from datetime import datetime"
   ]
  },
  {
   "cell_type": "code",
   "execution_count": 109,
   "metadata": {},
   "outputs": [
    {
     "name": "stdout",
     "output_type": "stream",
     "text": [
      "He is a mess.\n",
      "\n",
      "\n",
      "Reading poorly from the politicians.\n",
      "\n",
      "\n",
      "You & The Art of the silent majority is taking our country back.\n",
      "\n",
      "\n",
      "So simple, but he was sharp as a tack.\n",
      "\n",
      "\n",
      "Tune in for a million dollars!\n",
      "\n",
      "\n",
      "He is very tough.\n",
      "\n",
      "\n",
      "Itâ€™s time for Trump.\n",
      "\n",
      "\n",
      "Why didn't we get the money they get from the telepromter!\n",
      "\n",
      "\n",
      "RT @gem3wood: @DonaldJTrumpJr You guys @DoralResort have one hell of a very dumb and backward child.\n",
      "\n",
      "\n",
      "That's why we need you Mr. Trump!\n",
      "\n",
      "\n"
     ]
    }
   ],
   "source": [
    "# Get raw text as string\n",
    "# with open(\"ben.txt\") as f:\n",
    "#     text = f.read\n",
    "\n",
    "nlp = spacy.load(\"en\")\n",
    "\n",
    "class POSifiedText(markovify.Text):\n",
    "\n",
    "    def word_split(self, sentence):\n",
    "        return [\"::\".join((word.orth_, word.pos_)) for word in nlp(sentence)]\n",
    "    \n",
    "    def word_join(self, words):\n",
    "        sentence = \" \".join(word.split(\"::\")[0] for word in words)\n",
    "        return sentence\n",
    "\n",
    "reader = csv.reader(open('corpus.csv', 'rU'), dialect=csv.excel_tab)\n",
    "text = ''\n",
    "\n",
    "for row in reader:\n",
    "    escapes = ''.join([chr(char) for char in range(1, 32)])\n",
    "    t = str(row).translate(None, escapes)\n",
    "    t = t.decode('string_escape')\n",
    "    text += t\n",
    "\n",
    "    # Build the model\n",
    "    model_a = markovify.Text(text, state_size=2)\n",
    "    model_b = markovify.Text(text, state_size=2)\n",
    "    \n",
    "# print randomly-generated sentences of no more than 280 characters\n",
    "for i in range(10):\n",
    "    model_combo = markovify.combine([model_a, model_b])\n",
    "    print(model_combo.make_short_sentence(140 + random.randint(0, 140)))\n",
    "    print('\\n')"
   ]
  }
 ],
 "metadata": {
  "kernelspec": {
   "display_name": "Python 2",
   "language": "python",
   "name": "python2"
  },
  "language_info": {
   "codemirror_mode": {
    "name": "ipython",
    "version": 2
   },
   "file_extension": ".py",
   "mimetype": "text/x-python",
   "name": "python",
   "nbconvert_exporter": "python",
   "pygments_lexer": "ipython2",
   "version": "2.7.13"
  }
 },
 "nbformat": 4,
 "nbformat_minor": 2
}
