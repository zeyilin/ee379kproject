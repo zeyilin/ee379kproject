{
 "cells": [
  {
   "cell_type": "code",
   "execution_count": 102,
   "metadata": {},
   "outputs": [],
   "source": [
    "import csv\n",
    "import string\n",
    "import markovify\n",
    "import shelve\n",
    "import random\n",
    "import time\n",
    "import HTMLParser\n",
    "import re\n",
    "import spacy\n",
    "import random\n",
    "from datetime import datetime"
   ]
  },
  {
   "cell_type": "code",
   "execution_count": 116,
   "metadata": {},
   "outputs": [
    {
     "name": "stdout",
     "output_type": "stream",
     "text": [
      "No one can be tough and smart.\n",
      "\n",
      "\n",
      "Washington is all out of the great job every week on @FoxNewsSunday.\n",
      "\n",
      "\n",
      "I still can't believe voters have Jeb in front of a very special player and a free & better medical care then our Veterans.\n",
      "\n",
      "\n",
      "Doesnâ€™t get any better than I could get a birthday tweet.\n",
      "\n",
      "\n",
      "Where there's a will, there's a will, there's a will, there's a will, there's a will, there's a win.\n",
      "\n",
      "\n",
      "Would you like to see!\n",
      "\n",
      "\n",
      "Tomorrow is a chance.\n",
      "\n",
      "\n",
      "Glad she is silent.\n",
      "\n",
      "\n",
      "President, it is $50,678.\n",
      "\n",
      "\n",
      "All life is a fighter.\n",
      "\n",
      "\n"
     ]
    }
   ],
   "source": [
    "# Get raw text as string\n",
    "# with open(\"ben.txt\") as f:\n",
    "#     text = f.read\n",
    "\n",
    "nlp = spacy.load(\"en\")\n",
    "\n",
    "class POSifiedText(markovify.Text):\n",
    "\n",
    "    def word_split(self, sentence):\n",
    "        return [\"::\".join((word.orth_, word.pos_)) for word in nlp(sentence)]\n",
    "    \n",
    "    def word_join(self, words):\n",
    "        sentence = \" \".join(word.split(\"::\")[0] for word in words)\n",
    "        return sentence\n",
    "\n",
    "reader = csv.reader(open('corpus.csv', 'rU'), dialect=csv.excel_tab)\n",
    "text = ''\n",
    "\n",
    "for row in reader:\n",
    "    escapes = ''.join([chr(char) for char in range(1, 32)])\n",
    "    t = str(row).translate(None, escapes)\n",
    "    t = t.decode('string_escape')\n",
    "    text += t\n",
    "\n",
    "# Build the model\n",
    "model_a = markovify.Text(text, state_size=2)\n",
    "model_b = markovify.Text(text, state_size=2)\n",
    "    \n",
    "# print randomly-generated sentences of no more than 280 characters\n",
    "for i in range(10):\n",
    "    model_combo = markovify.combine([model_a, model_b], [random.uniform(1, 5),random.uniform(1, 5) ])\n",
    "    print(model_combo.make_short_sentence(140 + random.randint(0, 140)))\n",
    "    print('\\n')"
   ]
  }
 ],
 "metadata": {
  "kernelspec": {
   "display_name": "Python 2",
   "language": "python",
   "name": "python2"
  },
  "language_info": {
   "codemirror_mode": {
    "name": "ipython",
    "version": 2
   },
   "file_extension": ".py",
   "mimetype": "text/x-python",
   "name": "python",
   "nbconvert_exporter": "python",
   "pygments_lexer": "ipython2",
   "version": "2.7.13"
  }
 },
 "nbformat": 4,
 "nbformat_minor": 2
}
