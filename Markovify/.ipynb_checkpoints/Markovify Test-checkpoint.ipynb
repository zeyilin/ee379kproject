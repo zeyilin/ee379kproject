{
 "cells": [
  {
   "cell_type": "code",
   "execution_count": 1,
   "metadata": {},
   "outputs": [
    {
     "name": "stdout",
     "output_type": "stream",
     "text": [
      "[nltk_data] Downloading package punkt to /usr/local/share/nltk_data...\n",
      "[nltk_data]   Package punkt is already up-to-date!\n"
     ]
    }
   ],
   "source": [
    "import pandas as pd\n",
    "import numpy\n",
    "import sys\n",
    "import nltk\n",
    "nltk.download('punkt')\n",
    "import re\n",
    "import unicodecsv as csv\n",
    "import random\n",
    "import matplotlib.pyplot as plt\n",
    "from nltk import FreqDist\n",
    "import math"
   ]
  },
  {
   "cell_type": "code",
   "execution_count": 2,
   "metadata": {},
   "outputs": [
    {
     "data": {
      "text/html": [
       "<div>\n",
       "<style>\n",
       "    .dataframe thead tr:only-child th {\n",
       "        text-align: right;\n",
       "    }\n",
       "\n",
       "    .dataframe thead th {\n",
       "        text-align: left;\n",
       "    }\n",
       "\n",
       "    .dataframe tbody tr th {\n",
       "        vertical-align: top;\n",
       "    }\n",
       "</style>\n",
       "<table border=\"1\" class=\"dataframe\">\n",
       "  <thead>\n",
       "    <tr style=\"text-align: right;\">\n",
       "      <th></th>\n",
       "      <th>Unnamed: 0</th>\n",
       "      <th>synopsis</th>\n",
       "      <th>cluster</th>\n",
       "      <th>format_</th>\n",
       "    </tr>\n",
       "  </thead>\n",
       "  <tbody>\n",
       "    <tr>\n",
       "      <th>0</th>\n",
       "      <td>(11,)</td>\n",
       "      <td>Economists on the TAX CUTS and JOBS ACT:\\n\\n“T...</td>\n",
       "      <td>11</td>\n",
       "      <td>0</td>\n",
       "    </tr>\n",
       "    <tr>\n",
       "      <th>1</th>\n",
       "      <td>(0,)</td>\n",
       "      <td>The media has been speculating that I fired Re...</td>\n",
       "      <td>0</td>\n",
       "      <td>0</td>\n",
       "    </tr>\n",
       "    <tr>\n",
       "      <th>2</th>\n",
       "      <td>(5,)</td>\n",
       "      <td>RT @WhiteHouse: President Trump proclaims toda...</td>\n",
       "      <td>5</td>\n",
       "      <td>0</td>\n",
       "    </tr>\n",
       "    <tr>\n",
       "      <th>3</th>\n",
       "      <td>(0,)</td>\n",
       "      <td>Republicans Senators are working hard to pass ...</td>\n",
       "      <td>0</td>\n",
       "      <td>0</td>\n",
       "    </tr>\n",
       "    <tr>\n",
       "      <th>4</th>\n",
       "      <td>(0,)</td>\n",
       "      <td>The jury was not told the killer of Kate was a...</td>\n",
       "      <td>0</td>\n",
       "      <td>0</td>\n",
       "    </tr>\n",
       "  </tbody>\n",
       "</table>\n",
       "</div>"
      ],
      "text/plain": [
       "  Unnamed: 0                                           synopsis  cluster  \\\n",
       "0      (11,)  Economists on the TAX CUTS and JOBS ACT:\\n\\n“T...       11   \n",
       "1       (0,)  The media has been speculating that I fired Re...        0   \n",
       "2       (5,)  RT @WhiteHouse: President Trump proclaims toda...        5   \n",
       "3       (0,)  Republicans Senators are working hard to pass ...        0   \n",
       "4       (0,)  The jury was not told the killer of Kate was a...        0   \n",
       "\n",
       "   format_  \n",
       "0        0  \n",
       "1        0  \n",
       "2        0  \n",
       "3        0  \n",
       "4        0  "
      ]
     },
     "execution_count": 2,
     "metadata": {},
     "output_type": "execute_result"
    }
   ],
   "source": [
    "raw_data = pd.read_csv(\"clustered_tweets.csv\")\n",
    "raw_data.head()"
   ]
  },
  {
   "cell_type": "markdown",
   "metadata": {},
   "source": [
    "## Visualize Length of Tweets\n",
    "\n",
    "* We know Twitter used to have a 140 char limit, now it has been raised to 280\n",
    "* When considering generating tweets, must generate a particular number of words and subsequent characters\n",
    "* Rather than generating an arbitrary num of characters between [140,280] or even [0,280] (which would create far too many super short tweets), generate a length based on Trump's typical usage"
   ]
  },
  {
   "cell_type": "code",
   "execution_count": 3,
   "metadata": {},
   "outputs": [
    {
     "data": {
      "text/html": [
       "<div>\n",
       "<style>\n",
       "    .dataframe thead tr:only-child th {\n",
       "        text-align: right;\n",
       "    }\n",
       "\n",
       "    .dataframe thead th {\n",
       "        text-align: left;\n",
       "    }\n",
       "\n",
       "    .dataframe tbody tr th {\n",
       "        vertical-align: top;\n",
       "    }\n",
       "</style>\n",
       "<table border=\"1\" class=\"dataframe\">\n",
       "  <thead>\n",
       "    <tr style=\"text-align: right;\">\n",
       "      <th></th>\n",
       "      <th>Unnamed: 0</th>\n",
       "      <th>synopsis</th>\n",
       "      <th>cluster</th>\n",
       "      <th>format_</th>\n",
       "      <th>length</th>\n",
       "    </tr>\n",
       "  </thead>\n",
       "  <tbody>\n",
       "    <tr>\n",
       "      <th>0</th>\n",
       "      <td>(11,)</td>\n",
       "      <td>Economists on the TAX CUTS and JOBS ACT:\\n\\n“T...</td>\n",
       "      <td>11</td>\n",
       "      <td>0</td>\n",
       "      <td>231.0</td>\n",
       "    </tr>\n",
       "    <tr>\n",
       "      <th>1</th>\n",
       "      <td>(0,)</td>\n",
       "      <td>The media has been speculating that I fired Re...</td>\n",
       "      <td>0</td>\n",
       "      <td>0</td>\n",
       "      <td>275.0</td>\n",
       "    </tr>\n",
       "    <tr>\n",
       "      <th>2</th>\n",
       "      <td>(5,)</td>\n",
       "      <td>RT @WhiteHouse: President Trump proclaims toda...</td>\n",
       "      <td>5</td>\n",
       "      <td>0</td>\n",
       "      <td>113.0</td>\n",
       "    </tr>\n",
       "    <tr>\n",
       "      <th>3</th>\n",
       "      <td>(0,)</td>\n",
       "      <td>Republicans Senators are working hard to pass ...</td>\n",
       "      <td>0</td>\n",
       "      <td>0</td>\n",
       "      <td>279.0</td>\n",
       "    </tr>\n",
       "    <tr>\n",
       "      <th>4</th>\n",
       "      <td>(0,)</td>\n",
       "      <td>The jury was not told the killer of Kate was a...</td>\n",
       "      <td>0</td>\n",
       "      <td>0</td>\n",
       "      <td>173.0</td>\n",
       "    </tr>\n",
       "  </tbody>\n",
       "</table>\n",
       "</div>"
      ],
      "text/plain": [
       "  Unnamed: 0                                           synopsis  cluster  \\\n",
       "0      (11,)  Economists on the TAX CUTS and JOBS ACT:\\n\\n“T...       11   \n",
       "1       (0,)  The media has been speculating that I fired Re...        0   \n",
       "2       (5,)  RT @WhiteHouse: President Trump proclaims toda...        5   \n",
       "3       (0,)  Republicans Senators are working hard to pass ...        0   \n",
       "4       (0,)  The jury was not told the killer of Kate was a...        0   \n",
       "\n",
       "   format_  length  \n",
       "0        0   231.0  \n",
       "1        0   275.0  \n",
       "2        0   113.0  \n",
       "3        0   279.0  \n",
       "4        0   173.0  "
      ]
     },
     "execution_count": 3,
     "metadata": {},
     "output_type": "execute_result"
    }
   ],
   "source": [
    "raw_data_tweets = raw_data[raw_data.format_ == 0]\n",
    "raw_data['length'] = raw_data_tweets.apply(lambda x: len(x.synopsis), axis=1)\n",
    "raw_data.head()"
   ]
  },
  {
   "cell_type": "code",
   "execution_count": 4,
   "metadata": {},
   "outputs": [
    {
     "data": {
      "text/plain": [
       "count    14173.000000\n",
       "mean       116.417343\n",
       "std         30.964453\n",
       "min          2.000000\n",
       "25%         98.000000\n",
       "50%        129.000000\n",
       "75%        139.000000\n",
       "max        328.000000\n",
       "Name: length, dtype: float64"
      ]
     },
     "execution_count": 4,
     "metadata": {},
     "output_type": "execute_result"
    }
   ],
   "source": [
    "raw_data['length'].describe()"
   ]
  },
  {
   "cell_type": "code",
   "execution_count": 5,
   "metadata": {},
   "outputs": [
    {
     "data": {
      "image/png": "[encoded data removed]",
      "text/plain": [
       "<matplotlib.figure.Figure at 0x10d094650>"
      ]
     },
     "metadata": {},
     "output_type": "display_data"
    }
   ],
   "source": [
    "raw_data['length'].plot.hist(title=\"# Characters in Tweets\", color='b')\n",
    "plt.show()"
   ]
  },
  {
   "cell_type": "code",
   "execution_count": 6,
   "metadata": {},
   "outputs": [],
   "source": [
    "def get_tweet_length():\n",
    "    tweet_len_dist = raw_data['length'].value_counts()\n",
    "    total_tweets = tweet_len_dist.sum()\n",
    "    p = tweet_len_dist/total_tweets\n",
    "    \n",
    "    index = numpy.random.multinomial(1,p,1).argmax()\n",
    "    return tweet_len_dist.index.values[index]"
   ]
  },
  {
   "cell_type": "code",
   "execution_count": 7,
   "metadata": {},
   "outputs": [],
   "source": [
    "import csv\n",
    "import string\n",
    "import markovify\n",
    "import shelve\n",
    "import random\n",
    "import time\n",
    "import HTMLParser\n",
    "import re\n",
    "import spacy\n",
    "import random\n",
    "import pandas\n",
    "from datetime import datetime"
   ]
  },
  {
   "cell_type": "code",
   "execution_count": 8,
   "metadata": {},
   "outputs": [],
   "source": [
    "import markovify\n",
    "import re\n",
    "import spacy\n",
    "\n",
    "nlp = spacy.load(\"en\")\n",
    "\n",
    "class POSifiedText(markovify.NewlineText):\n",
    "    def word_split(self, sentence):\n",
    "        return [\"::\".join((word.orth_, word.pos_)) for word in nlp(sentence)]\n",
    "\n",
    "    def word_join(self, words):\n",
    "        sentence = \" \".join(word.split(\"::\")[0] for word in words)\n",
    "        return sentence"
   ]
  },
  {
   "cell_type": "code",
   "execution_count": 27,
   "metadata": {},
   "outputs": [],
   "source": [
    "def train_spaCy_model(text):\n",
    "    model = POSifiedText(text)\n",
    "    return model"
   ]
  },
  {
   "cell_type": "code",
   "execution_count": 56,
   "metadata": {},
   "outputs": [],
   "source": [
    "def generate_markov_tweet(cluster, num_tweets):\n",
    "    # Get tweets from cluster\n",
    "    text = \"\"\n",
    "    tweets_in_cluster = raw_data[raw_data.cluster == cluster]\n",
    "    for tweet in tweets_in_cluster['synopsis']:\n",
    "        text += tweet + \" \"\n",
    "    \n",
    "    model = markovify.Text(text, state_size=2)\n",
    "    \n",
    "    # Print randomly-generated sentences of no more than 280 characters\n",
    "    # (number of characters based on tweet analysis)\n",
    "    for i in range(num_tweets):\n",
    "        length = get_tweet_length()\n",
    "        print nlp(model.make_short_sentence(length).decode('utf-8'))\n",
    "        print('\\n')"
   ]
  },
  {
   "cell_type": "code",
   "execution_count": 57,
   "metadata": {},
   "outputs": [
    {
     "name": "stdout",
     "output_type": "stream",
     "text": [
      "That is going out of control.\n",
      "\n",
      "\n",
      "We will stop at nothing to do for our country will be shown on This Week on @ABC News tonight at 8 PM.\n",
      "\n",
      "\n",
      "The end result will be too great.\n",
      "\n",
      "\n",
      "@FoxNews .@FoxNews you should be celebrated and cherished.\n",
      "\n",
      "\n",
      "This is a total lightweight who I love, I love China.\n",
      "\n",
      "\n",
      "I will never give up!\n",
      "\n",
      "\n",
      "Senator @LindseyGrahamSC made horrible statements about @SenTedCruz – and then come together as a fraud!\n",
      "\n",
      "\n",
      "Here in Ohio, in Pennsylvania, in all fairness.\n",
      "\n",
      "\n",
      "Have to do it together.\n",
      "\n",
      "\n",
      "This is the 1st time in Iowa with our service members, police officers, federal investigators and immigration screeners.\n",
      "\n",
      "\n"
     ]
    }
   ],
   "source": [
    "generate_markov_tweet(0, 10)"
   ]
  }
 ],
 "metadata": {
  "kernelspec": {
   "display_name": "Python 2",
   "language": "python",
   "name": "python2"
  },
  "language_info": {
   "codemirror_mode": {
    "name": "ipython",
    "version": 2
   },
   "file_extension": ".py",
   "mimetype": "text/x-python",
   "name": "python",
   "nbconvert_exporter": "python",
   "pygments_lexer": "ipython2",
   "version": "2.7.13"
  }
 },
 "nbformat": 4,
 "nbformat_minor": 2
}
