{
 "cells": [
  {
   "cell_type": "code",
   "execution_count": 2,
   "metadata": {},
   "outputs": [
    {
     "name": "stdout",
     "output_type": "stream",
     "text": [
      "[nltk_data] Downloading package punkt to /usr/local/share/nltk_data...\n",
      "[nltk_data]   Package punkt is already up-to-date!\n"
     ]
    }
   ],
   "source": [
    "import pandas as pd\n",
    "import numpy\n",
    "import sys\n",
    "import nltk\n",
    "nltk.download('punkt')\n",
    "import re\n",
    "import unicodecsv as csv\n",
    "import random\n",
    "import matplotlib.pyplot as plt\n",
    "from nltk import FreqDist\n",
    "import math"
   ]
  },
  {
   "cell_type": "code",
   "execution_count": 3,
   "metadata": {},
   "outputs": [
    {
     "data": {
      "text/html": [
       "<div>\n",
       "<style>\n",
       "    .dataframe thead tr:only-child th {\n",
       "        text-align: right;\n",
       "    }\n",
       "\n",
       "    .dataframe thead th {\n",
       "        text-align: left;\n",
       "    }\n",
       "\n",
       "    .dataframe tbody tr th {\n",
       "        vertical-align: top;\n",
       "    }\n",
       "</style>\n",
       "<table border=\"1\" class=\"dataframe\">\n",
       "  <thead>\n",
       "    <tr style=\"text-align: right;\">\n",
       "      <th></th>\n",
       "      <th>Unnamed: 0</th>\n",
       "      <th>synopsis</th>\n",
       "      <th>cluster</th>\n",
       "      <th>format_</th>\n",
       "    </tr>\n",
       "  </thead>\n",
       "  <tbody>\n",
       "    <tr>\n",
       "      <th>0</th>\n",
       "      <td>(11,)</td>\n",
       "      <td>Economists on the TAX CUTS and JOBS ACT:\\n\\n“T...</td>\n",
       "      <td>11</td>\n",
       "      <td>0</td>\n",
       "    </tr>\n",
       "    <tr>\n",
       "      <th>1</th>\n",
       "      <td>(0,)</td>\n",
       "      <td>The media has been speculating that I fired Re...</td>\n",
       "      <td>0</td>\n",
       "      <td>0</td>\n",
       "    </tr>\n",
       "    <tr>\n",
       "      <th>2</th>\n",
       "      <td>(5,)</td>\n",
       "      <td>RT @WhiteHouse: President Trump proclaims toda...</td>\n",
       "      <td>5</td>\n",
       "      <td>0</td>\n",
       "    </tr>\n",
       "    <tr>\n",
       "      <th>3</th>\n",
       "      <td>(0,)</td>\n",
       "      <td>Republicans Senators are working hard to pass ...</td>\n",
       "      <td>0</td>\n",
       "      <td>0</td>\n",
       "    </tr>\n",
       "    <tr>\n",
       "      <th>4</th>\n",
       "      <td>(0,)</td>\n",
       "      <td>The jury was not told the killer of Kate was a...</td>\n",
       "      <td>0</td>\n",
       "      <td>0</td>\n",
       "    </tr>\n",
       "  </tbody>\n",
       "</table>\n",
       "</div>"
      ],
      "text/plain": [
       "  Unnamed: 0                                           synopsis  cluster  \\\n",
       "0      (11,)  Economists on the TAX CUTS and JOBS ACT:\\n\\n“T...       11   \n",
       "1       (0,)  The media has been speculating that I fired Re...        0   \n",
       "2       (5,)  RT @WhiteHouse: President Trump proclaims toda...        5   \n",
       "3       (0,)  Republicans Senators are working hard to pass ...        0   \n",
       "4       (0,)  The jury was not told the killer of Kate was a...        0   \n",
       "\n",
       "   format_  \n",
       "0        0  \n",
       "1        0  \n",
       "2        0  \n",
       "3        0  \n",
       "4        0  "
      ]
     },
     "execution_count": 3,
     "metadata": {},
     "output_type": "execute_result"
    }
   ],
   "source": [
    "raw_data = pd.read_csv(\"clustered_tweets.csv\")\n",
    "raw_data.head()"
   ]
  },
  {
   "cell_type": "markdown",
   "metadata": {},
   "source": [
    "## Visualize Length of Tweets\n",
    "\n",
    "* We know Twitter used to have a 140 char limit, now it has been raised to 280\n",
    "* When considering generating tweets, must generate a particular number of words and subsequent characters\n",
    "* Rather than generating an arbitrary num of characters between [140,280] or even [0,280] (which would create far too many super short tweets), generate a length based on Trump's typical usage"
   ]
  },
  {
   "cell_type": "code",
   "execution_count": 119,
   "metadata": {},
   "outputs": [
    {
     "name": "stdout",
     "output_type": "stream",
     "text": [
      "<class 'pandas.core.frame.DataFrame'>\n"
     ]
    },
    {
     "data": {
      "text/html": [
       "<div>\n",
       "<style>\n",
       "    .dataframe thead tr:only-child th {\n",
       "        text-align: right;\n",
       "    }\n",
       "\n",
       "    .dataframe thead th {\n",
       "        text-align: left;\n",
       "    }\n",
       "\n",
       "    .dataframe tbody tr th {\n",
       "        vertical-align: top;\n",
       "    }\n",
       "</style>\n",
       "<table border=\"1\" class=\"dataframe\">\n",
       "  <thead>\n",
       "    <tr style=\"text-align: right;\">\n",
       "      <th></th>\n",
       "      <th>Unnamed: 0</th>\n",
       "      <th>synopsis</th>\n",
       "      <th>cluster</th>\n",
       "      <th>format_</th>\n",
       "      <th>length</th>\n",
       "    </tr>\n",
       "  </thead>\n",
       "  <tbody>\n",
       "    <tr>\n",
       "      <th>0</th>\n",
       "      <td>(11,)</td>\n",
       "      <td>Economists on the TAX CUTS and JOBS ACT:\\n\\n“T...</td>\n",
       "      <td>11</td>\n",
       "      <td>0</td>\n",
       "      <td>231.0</td>\n",
       "    </tr>\n",
       "    <tr>\n",
       "      <th>1</th>\n",
       "      <td>(0,)</td>\n",
       "      <td>The media has been speculating that I fired Re...</td>\n",
       "      <td>0</td>\n",
       "      <td>0</td>\n",
       "      <td>275.0</td>\n",
       "    </tr>\n",
       "    <tr>\n",
       "      <th>2</th>\n",
       "      <td>(5,)</td>\n",
       "      <td>RT @WhiteHouse: President Trump proclaims toda...</td>\n",
       "      <td>5</td>\n",
       "      <td>0</td>\n",
       "      <td>113.0</td>\n",
       "    </tr>\n",
       "    <tr>\n",
       "      <th>3</th>\n",
       "      <td>(0,)</td>\n",
       "      <td>Republicans Senators are working hard to pass ...</td>\n",
       "      <td>0</td>\n",
       "      <td>0</td>\n",
       "      <td>279.0</td>\n",
       "    </tr>\n",
       "    <tr>\n",
       "      <th>4</th>\n",
       "      <td>(0,)</td>\n",
       "      <td>The jury was not told the killer of Kate was a...</td>\n",
       "      <td>0</td>\n",
       "      <td>0</td>\n",
       "      <td>173.0</td>\n",
       "    </tr>\n",
       "  </tbody>\n",
       "</table>\n",
       "</div>"
      ],
      "text/plain": [
       "  Unnamed: 0                                           synopsis  cluster  \\\n",
       "0      (11,)  Economists on the TAX CUTS and JOBS ACT:\\n\\n“T...       11   \n",
       "1       (0,)  The media has been speculating that I fired Re...        0   \n",
       "2       (5,)  RT @WhiteHouse: President Trump proclaims toda...        5   \n",
       "3       (0,)  Republicans Senators are working hard to pass ...        0   \n",
       "4       (0,)  The jury was not told the killer of Kate was a...        0   \n",
       "\n",
       "   format_  length  \n",
       "0        0   231.0  \n",
       "1        0   275.0  \n",
       "2        0   113.0  \n",
       "3        0   279.0  \n",
       "4        0   173.0  "
      ]
     },
     "execution_count": 119,
     "metadata": {},
     "output_type": "execute_result"
    }
   ],
   "source": [
    "raw_data_tweets = raw_data[raw_data.format_ == 0]\n",
    "speeches = raw_data[raw_data.format_ == 1]\n",
    "raw_data['length'] = raw_data_tweets.apply(lambda x: len(x.synopsis), axis=1)\n",
    "raw_data.head()"
   ]
  },
  {
   "cell_type": "code",
   "execution_count": 5,
   "metadata": {},
   "outputs": [
    {
     "data": {
      "text/plain": [
       "count    14173.000000\n",
       "mean       116.417343\n",
       "std         30.964453\n",
       "min          2.000000\n",
       "25%         98.000000\n",
       "50%        129.000000\n",
       "75%        139.000000\n",
       "max        328.000000\n",
       "Name: length, dtype: float64"
      ]
     },
     "execution_count": 5,
     "metadata": {},
     "output_type": "execute_result"
    }
   ],
   "source": [
    "raw_data['length'].describe()"
   ]
  },
  {
   "cell_type": "code",
   "execution_count": 6,
   "metadata": {},
   "outputs": [
    {
     "data": {
      "image/png": "[encoded data removed]",
      "text/plain": [
       "<matplotlib.figure.Figure at 0x10237d550>"
      ]
     },
     "metadata": {},
     "output_type": "display_data"
    }
   ],
   "source": [
    "raw_data['length'].plot.hist(title=\"# Characters in Tweets\", color='b')\n",
    "plt.show()"
   ]
  },
  {
   "cell_type": "code",
   "execution_count": 7,
   "metadata": {},
   "outputs": [],
   "source": [
    "def get_tweet_length():\n",
    "    tweet_len_dist = raw_data['length'].value_counts()\n",
    "    total_tweets = tweet_len_dist.sum()\n",
    "    p = tweet_len_dist/total_tweets\n",
    "    \n",
    "    index = numpy.random.multinomial(1,p,1).argmax()\n",
    "    return tweet_len_dist.index.values[index]"
   ]
  },
  {
   "cell_type": "code",
   "execution_count": 8,
   "metadata": {},
   "outputs": [],
   "source": [
    "import csv\n",
    "import string\n",
    "import markovify\n",
    "import shelve\n",
    "import random\n",
    "import time\n",
    "import HTMLParser\n",
    "import re\n",
    "import spacy\n",
    "import random\n",
    "import pandas\n",
    "from datetime import datetime"
   ]
  },
  {
   "cell_type": "code",
   "execution_count": 120,
   "metadata": {},
   "outputs": [],
   "source": [
    "import markovify\n",
    "import re\n",
    "import spacy\n",
    "\n",
    "nlp = spacy.load(\"en\")"
   ]
  },
  {
   "cell_type": "code",
   "execution_count": 10,
   "metadata": {},
   "outputs": [],
   "source": [
    "def train_spaCy_model(text):\n",
    "    model = POSifiedText(text)\n",
    "    return model"
   ]
  },
  {
   "cell_type": "code",
   "execution_count": 112,
   "metadata": {},
   "outputs": [],
   "source": [
    "def generate_markov_tweet(cluster, num_tweets, state_size, tries, max_overlap_total):\n",
    "    # Get tweets from cluster\n",
    "    text = \"\"\n",
    "    tweets_in_cluster = raw_data[raw_data.cluster == cluster]\n",
    "    for tweet in tweets_in_cluster['synopsis']:\n",
    "        text += tweet + \" \"\n",
    "    \n",
    "    model = markovify.Text(text, state_size)\n",
    "    \n",
    "    # Print randomly-generated sentences of no more than 280 characters\n",
    "    # (number of characters based on tweet analysis)\n",
    "    for i in range(num_tweets):\n",
    "        length = get_tweet_length()\n",
    "        print nlp(model.make_short_sentence(length,tries=tries,max_overlap_total=max_overlap_total).decode(\"utf-8\")+\"\\n\")"
   ]
  },
  {
   "cell_type": "code",
   "execution_count": 109,
   "metadata": {},
   "outputs": [],
   "source": [
    "def get_hashtags(raw_data):\n",
    "    hashtags = []\n",
    "    for line in raw_data['synopsis']:\n",
    "        if len(re.findall(r\"#(\\w+)\", line)) > 0:\n",
    "            hashtags += re.findall(r\"#(\\w+)\", line)\n",
    "    return hashtags"
   ]
  },
  {
   "cell_type": "code",
   "execution_count": 110,
   "metadata": {},
   "outputs": [
    {
     "name": "stdout",
     "output_type": "stream",
     "text": [
      "['WorldAIDSDay', 'DOW24K', 'MAGA', 'MakeAmericaGreatAgain', 'GivingTuesday', 'GES2017', 'GES2017', 'entrepreneurs', 'innovation', 'WhiteHouseChristmas', 'SmallBusinessSaturday', 'SmallBiz', 'ShopSmall', 'HappyThanksgiving', 'soldiers', 'Afghanistan', 'HappyThanksgiving', 'NCAAChampions', 'MS13', 'TaxCutsandJobsAct', 'POTUSinAsia', 'PearlHarbor', 'USA', 'FakeNews', 'ASEAN50', 'MakeAmericaGreatAgain', 'MAGA', 'ASEANSummit', 'ASEANSummit', 'APEC', 'NoKo', 'USMC242', 'SemperFi', 'APEC2017', 'APEC2017', 'APEC2017', 'APEC2017', 'APEC2017', 'APEC2017', 'APEC2017', 'NationalAssembly', 'POTUSinAsia', 'USA', 'Japan', 'USA', 'Japan', 'PearlHarbor', 'USA', 'WorldSeries', 'HoustonStrong', 'EarnHistory', 'NYCStrong', 'NYCStrong', 'USA', 'EndingWarOnCoal', 'TaxRefor', 'Halloween2017', 'FirstRespondersDay', 'JFKFiles', 'OpioidEpidemic', 'JFKFiles', 'FlashbackFriday', 'OpioidEpidemic', 'OpioidCrisis', 'AmericaFirst', 'TaxReform', 'TaxReform', 'JFKFiles', 'Dobbs', 'TaxReform', 'VegasStrong', 'PuertoRico', 'PRStrong', 'MAGA', 'Dow23K', 'MAGA', 'USA', 'TaxReform', 'TaxReform', 'Dow23K', 'MakeAmericaGreatAgain', 'WeeklyAddress', 'ValuesVotersSummit', '242NavyBday', 'TaxReform', 'NationalFarmersDay', 'USA', 'TaxReform', 'USA', 'MAGA', 'StanleyCup', 'ColumbusDay', 'PuertoRico', 'LasVegasStrong', 'USA', 'HurricaneNate', '1', 'StockAlert', 'VegasStron', 'FakeNews', 'FakeNews', 'PRStrong', 'USVI', 'TeamUSA', 'NationalAnthem', 'StandForOurAnthem', 'FakeNews', 'FakeNews', 'PRStrong', 'FakeNews', 'PRStrong', 'FEMA', 'DoD', 'PuertoRico', 'USVI', 'AirForce', 'PuertoRico', 'VirginIslands', 'police', 'fire', 'government', 'USNSComfort', 'PuertoRico', 'MakeAmericaGreatAgain', 'TaxReform', 'PuertoRico', 'Hannityat9', 'AmericaFirst', 'Dobbs', 'MAGA', 'LESM', 'WeeklyAddress', 'TaxReform', 'PuertoRico', 'HurricaneMaria', 'TeamScalise', 'TaxReform', 'USA', 'TaxReform', 'TaxReform', 'MAGA', 'USA', 'NoKo', 'PuertoRico', 'USVI', 'USA', 'SituationRoom', 'USA', 'MAGA', 'FEMA', 'StandForOurAnthem', 'FakeNews', 'StandForOurAnt', 'StandForOurAnthem', 'Anthem', 'NFL', 'MAGA', 'USAatUNGA', 'UNGA', 'TRUMP', 'MAGA', 'Harvey', 'USA', 'UNGA', 'NoKo', 'UNGA', 'UNGA', 'USAatUNGA', 'UNGA', 'PRStrong', 'MAGA', 'WeThePeople', 'USAatUNGA', 'UNGA', 'USA', 'USAatUNGA', 'UNGA', 'AmericaFirst', 'UNGA', 'NoKo', 'USAatUNGA', 'UNGA', 'UNGA', 'UNGA', 'USAatUNGA', 'UNGA', 'MAGA', 'CrookedHillary', 'NYTimes', 'FAKE', 'Irma', 'Dobbs', 'MA', 'NeverForget911', 'NeverForget', 'Irma', 'HurricaneIrma', 'HurricaneJose', 'HurricaneIrma', 'harvey', 'irma', 'HurricaineIrma', 'Florida', 'IrmaHurricane2017', 'OneAmericaAppeal', 'HurricaneIrma', 'FEMA', 'USA', 'LaborDay', 'LEOs', 'CajunNavy', 'TexasStrong', 'SouthernBaptist', 'HurricaneHarvey', 'PrayForTexas', 'TexasStrong', 'Veterans', 'HurricaneHarvey', 'TaxRefo', 'MAGA', 'thefive', 'PhotosFromTheField', 'Harvey', 'TMDHarvey', 'HurricaneHarvey', 'Harvey', 'Harvey', 'HurricaneHarvey', 'HurricaneHarvey', 'Harvey', 'Hurric', 'Harvey', 'Harvey', 'HurricaneHarvey', 'HurricaneHarvey', 'HurricaneHarvey', 'HurricaneHarvey', 'MAGA', 'HurricaneHarvey', 'HurricaneHarvey', 'PlanAhead', 'ALConv2017', 'ALConv2017', 'DrainTheSwamp', 'PhoenixRally', 'MAGA', 'USSJohnSMcCain', 'USA', 'AfghanStrategy', 'USSJohnSMcCain', 'LESM', 'HR873', 'MAGA', 'NeverTrumpers', 'MAGA', 'TrumpTrain', 'Fake', 'MAGA', 'Virginia', 'Charlot', 'Charlottesville', 'USAF', 'bombers', 'FightTonight', 'GES2017', 'ObamaDay', 'GodBlessTheUSA', 'thefive', 'PurpleHeartDay', 'USA', 'PurpleHeartDay', 'USA', 'Fake', 'ISIS', 'AmericaFirst', 'MAGA', 'CG227', 'BreakingNews', 'JobsReport', 'MAGA', 'VAVideoConnect', 'USA', 'MakeAmericaGreatAgain', 'MAGA', 'RAISEAct', 'Fake', 'MS13', 'MS13', 'LESM', 'LESM', 'FlashbackFriday', 'MS13', 'TeamScalise', 'MakeAmericaGreatAgain', '2017Jambo', 'OCareNightmare', 'USSGeraldRFord', 'USSGeraldRFord', 'USA', 'USSGeraldRFord', 'USA', 'USSArizona', 'HonorThem', 'USSArizona', 'MadeInAmerica', 'MadeInAmerica', 'AmericaFirst', 'MAGA', 'USWomensOpen', 'USWomensOpen', 'USSJohnFinn', 'Fake', 'USWomensOpen', 'USWomensOpen', 'WeeklyAddress', 'USWomensOpen', 'BastilleDay', '14juillet', 'USWomensOpen', 'BastilleDay', 'MAGA', 'MAGA', 'TheFive', 'RealPresident', 'Obama', 'Democrat', 'G20Summit', 'G20Summit', 'FakeNews', 'G20Summit', 'USA', 'MAGA', 'G20Summit', 'USA', 'POTUSinPoland', 'ICYMI', 'POTUSinPoland', 'HappyIndependenceDay', 'USA', 'HappyIndependenceDay', 'July4', 'USA', 'MSM', 'CharlieGard', 'FraudNewsCNN', 'FNN', 'FakeNews', 'FraudNewsCNN', 'FakeNews', 'KatesLaw', 'NoSanctuaryForCriminalsAct', 'FakeNews', 'Canada150', 'KatesLaw', 'UnleashingAmericanEnergy', 'NoSanctuaryForCriminalsAct', 'KatesLaw', 'SaveAmericanLives', 'NoSanctuaryForCriminalsAct', 'KatesLaw', 'KatesLaw', 'ICYMI', 'AmazonWashingtonPost', 'maga', 'Obamacare', 'Obamacare', 'VAaccountability', 'TeamScalise', 'AmericaFirst', 'HealthcareBill', 'MAGA', 'VoteKarenHandel', 'GA06', 'VoteKarenHandel', 'GA06', 'VoteRalphNorman', 'USSFitzgerald', 'Hannity', 'MAGA', 'CongressionalBaseballGame', 'WorkforceWeek', 'MAGA', 'OttoWarmbier', 'MAGA', 'NationalChampions', 'PulseNightClub', 'Obamacare', 'FakeNews', 'DOW', 'NASDAQ', 'AmericaFirst', 'InfrastructureWeek', 'AmericaFirst', 'ICYMI', 'DDay', 'WeeklyAddress', 'MakeAmericaGreatAgain', 'MakeAmericaGreatAgain', 'maga', 'ParisAccord', 'Ameri', 'AmericaFirst', 'MemorialDay', 'MemorialDay', 'FakeNews', 'FakeNews', 'FakeNews', 'G7Summit', 'G7Taormina', 'G7Summit', 'USA', 'POTUSAbroad', 'USA', 'NATOMeeting', 'NATO', 'Brussels', 'G7', 'NATO', 'RiyadhSummit', 'POTUSAbroad', 'RiyadhSummit', 'POTUSAbroad', 'Riyadh', 'SaudiaArabia', 'POTUSAbroad', 'WeeklyAddress', 'PoliceWeek', 'CGACommencement17', 'PeaceOfficersMemorialDay', 'PoliceWeek', 'NationalPoliceWeek', 'MothersDay', 'WeeklyAddress', 'TARC', 'DrainTheSwamp', 'draintheswamp', 'FakeNews', 'CashinIn', 'WeeklyAddress', 'NationalDayofPrayer', 'SchoolChoice', 'ICYMI', 'Dems', 'Trump', 'Russia', 'AmericaFirst', 'ObamaCare', 'ICYMI', 'CongratsPeggy', 'BuildTheWall', 'CongratsPeggy', 'W', 'GodBlessTheUSA', 'ICYMI', 'S544', 'BuyAmericanHireAmerican', 'BuyAmericanHireAmerican', 'AmericaFirst', 'SyrianStrikes', 'ChagSameach', 'USA', 'SoldierRideDC', 'NABTU2017', 'NABTU2017', 'CEOTownHall', 'WorldAutismAwarenessDay', 'LIUB', 'AmericaFirst', 'Am', 'WeeklyAddress', 'ConfirmGorsuch', 'ConfirmGorsuch', 'SCOTUS', 'USA', 'MakeAmericaGreatAgain', 'RepealANDReplace', 'Obamacare', 'Obamacare', 'ThankAVeteran', 'MadeInTheUSA', 'MAGA', 'MedalOfHonorDay', 'KeystonePipeline', 'RepealANDReplace', 'Obamacare', 'AHCA', 'PassTheBill', 'NationalAgDay', 'PassTheBill', 'MAGA', 'MAGA', 'ICYMI', 'MAGA', 'DrainTheSwam', 'USHCCLegi', 'AmericaFirst', 'POTUS7', 'USA', 'ReadTheBill', 'MAGA', 'MAGA', 'JointSession', 'MAGA', 'JointAddress', 'RepealAndReplace', 'ICYMI', 'VASecretary', 'ICYMI', 'ICYMI', 'MarineOne', '1', '1in', 'SuperBowl', 'SuperBowl', 'NeverForget', 'MarchForLife', 'MarchForLife', 'MAGA', 'InaugurationDay', 'MAGA', 'AmericaFirst', 'InaugurationDay', 'Inauguration', 'Inauguration2017', 'Inauguration2017', 'GodBlessTheUSA', 'RepealObamacare', 'FakeNews', 'fakenews', 'LawEnforcementAppreciationDay', 'Hannity', 'DTS', 'newyear', 'family', 'vacation', 'familytime', 'POTUS', 'HappyNewYear', 'HappyNewYear', 'MerryChristmas', 'Hanukkah', 'TrumpTrain', 'AmericaFirst', 'Facebook', 'ThankYouTour2016', 'MakeAmericaGreatAgain', 'ICYMI', 'ThankYouTour2016', 'ThankYouTour2016', 'PEOTUS', 'VPEOTUS', 'ThankYouTour2016', 'MAGA', 'ThankYouTour2016', 'ThankYouTour2016', 'ThankYouTour2016', 'MAGA', 'ThankYouTour2016', 'ThankYouTour2016', 'MAGA', 'ICYMI', 'ThankYouTour2016', 'ThankYouTour2016', 'heroworldchallenge', 'PEOTUS', 'VPE', 'PEOTUS', 'ThankYouTour2016', 'voterfraud', 'CorruptHillary', 'MAGA', 'ThankAVet', 'ElectionNight', 'MAGA', 'Election2', 'MakeAmericaGreatAgain', 'VOTE', 'MAGA', 'ElectionDay', 'VoteTrump', 'iVoted', 'ElectionNight', 'ElectionDay', 'NH', 'NewHampshire', 'MAGA', 'Periscope', 'MAGA', 'MakeAmericaGreatAgain', 'AmericaFirst', 'VoteTrumpPence16', 'ICYMI', 'MAGA', 'DrainTheSwamp', 'DrainTheSwamp', 'MAGA', 'ICYMI', 'VoteTrumpPence16', 'ICYMI', 'Facebook', 'MakeAmericaGreatAgain', 'AmericaFirst', 'DrainTheSwamp', 'WattersWorld', 'ICYMI', 'MAGA', 'RallyForRiley', 'ICYMI', 'MakeAmericaGreatAgain', 'DrainTheSwamp', 'ICYMI', 'AnthonyWeiner', 'DrainTheSwamp', 'CrookedHillary', 'ImWithYou', 'DrainTheSwamp', 'MakeAmericaGreatAgain', '6Days', 'DrainTheSwamp', 'DrainTheSwamp', 'trumptower', 'Billygraham', 'SupportsTrump', 'DrainTheSwamp', 'MAGA', 'DrainTheSwamp', 'ICYMI', 'ObamacareFail', 'HillarycareFail', 'ICYMI', 'DrainTheSwamp', 'DrainTheSwamp', 'DrainTheSwamp', 'ICYMI', 'ObamacareFail', 'DonaldTrump', 'PhilRobertson', 'DuckDynasty', 'CrookedHillary', 'DrainTheSwamp', 'AmericaFirst', 'MAGA', 'DrainTheSwamp', 'MAGA', 'DrainTheSwamp', 'MAGA', 'MAGA', 'ICYMI', 'DrainTheSwamp', 'VoteTrumpPence16', 'ICYMI', 'DrainTheSwamp', 'MAGA', 'DrainTheSwamp', 'CircleOfEnrichment', 'DrainTheSwamp', 'VoteTrumpPence16', 'ICYMI', 'ICYMI', 'TrumpPence16', 'ICYMI', 'ObamaCareInThreeWords', 'MakeAmericaGreatAgain', 'DrainTheSwamp', 'ObamacareFailed', 'MAGA', 'ObamacareFail', 'ObamacareFail', 'ObamacareFail', 'ObamacareFail', 'ObamacareFail', 'Obamacare', 'DrainTheSwamp', 'DrainTheSwamp', 'DrainTheSwamp', 'DrainTheSwamp', 'DrainTheSwamp', 'PayToPlay', 'DrainTheSwamp', 'MAGA', 'DrainTheSwamp', 'DrainTheSwamp', 'CrookedHillary', 'TrumpPence16', 'MakeAmericaGreatAgain', 'CrookedHillary', 'PayToPlay', 'TrumpPence16', 'DrainTheSwamp', 'TrumpPence16', 'DrainTheSwamp', 'CrookedHillary', 'DrainTheSwamp', 'MAGA', 'MAGA', 'DrainTheSwamp', 'DrainTheSwamp', 'MakeAmericaGreatAgain', 'Voted', 'Arizona', 'Economy', 'Immigration', 'Jobs', 'Veterans', 'BorderControl', 'Trade', 'DNCleak', 'MAGA', 'MAGA', 'CrookedHillary', 'DrainTheSwamp', 'CrookedHillary', 'DrainTheSwamp', 'DrainTheSwamp', 'CrookedHillary', 'DrainTheSwamp', 'RepealObamacare', 'Obamacare', 'ICYMI', 'MakeAmericaGreatAgain', 'EarlyVote', 'DrainTheSwamp', 'PayToPlay', 'MAGA', 'DrainTheSwamp', 'Debate', 'MAGA', 'DrainTheSwamp', 'MAGA', 'Debate', 'Debates', 'AmericanUnity', 'BigLeagueTruth', 'MAGA', 'debate', 'DrainTheSwamp', 'Debate', 'Obamacare', 'DrainTheSwamp', 'DrainTheSwamp', 'BigLeagueTruth', 'DrainTheSwamp', 'Debates', 'BigLeagueTruth', 'Debate', 'DrainTheSwamp', 'BigLeagueTruth', 'DrainTheSwamp', 'BigLeagueTruth', 'Debate', 'BigLeagueTruth', 'CrookedHillary', 'DrainTheSwamp', 'DrainTheSwamp', 'DrainTheSwamp', 'Debate', 'DrainTheSwamp', 'DrainTheSwamp', 'BigLeagueTruth', 'Debate', 'Debate', 'BigLeagueTruth', 'DrainTheSwamp', 'MAGA', 'BigLeagueTruth', 'Debate', 'BigLeagueTruth', 'CrookedHillary', 'BigLeagueTruth', 'Debate', 'BigLeagueTruth', 'DrainTheSwamp', 'Debate', 'BigLeagueTruth', 'CrookedHillary', 'BigLeagueTruth', 'BigLeagueTruth', 'DrainTheSwamp', 'Debate', 'CrookedHillary', 'DrainTheSwamp', 'Debate', 'CrookedHillary', 'BigLeageTruth', 'DrainTheSwamp', 'Debates', 'BigLeagueTruth', 'BigLeagueTruth', 'Debates', 'MakeAmericaStrongAgain', 'Debate', 'Debate', 'BigLeagueTruth', 'BigLeagueTruth', 'DrainTheSwamp', 'Debate', 'BigLeagueTruth', 'DrainTheSwamp', 'Debate', 'BigLeagueTruth', 'Debate', 'BigLeagueTruth', 'Debate', 'Debate', 'MAGA', 'Debate', 'BigLeagueTruth', 'SecondAmendment', '2A', 'Debates', 'BigLeagueTruth', 'Debates2016', 'DrainTheSwamp', 'Debates', 'BigLeagueTruth', 'Debate', 'BigLeagueTruth', 'Debate', 'BigLeagueTruth', 'DrainTheSwamp', 'Debate', 'BigLeagueTruth', 'debate', 'DrainTheSwamp', 'Debate', 'MAGA', 'November8th', 'BigLeagueTruth', 'Debate', 'BigLeagueTruth', 'Debate', 'debate', 'MakeAmericaGreatAgain', 'Obamacare', 'DrainTheSwamp', 'DrainTheSwamp', 'DrainTheSwamp', 'DrainTheSwamp', 'DrainTheSwamp', 'DrainTheSwamp', 'DrainTheSwamp', 'DrainTheSwamp', 'DrainTheSwamp', 'DrainTheSwamp', 'TrumpPence16', 'DrainTheSwamp', 'DrainTheSwamp', 'DrainTheSwamp', 'RIGGED', 'DrainTheSwamp', 'DrainTheSwamp', 'DrainTheSwamp', 'Obamacare', 'MAGA', 'RiggedSystem', 'MAGA', 'VoteTrumpPence16', 'MAGA', 'MakeAmericaGreatAgain', 'MakeAmericaGreatAgain', 'MAGA', 'TrumpRally', 'MAGA', 'TrumpRally', 'MAGA', 'AmericaFirst', 'OhioVotesEarly', 'VoteTrumpPence16', 'CrookedHillary', 'VoteTrumpPence16', 'MAGA', 'AmericaFirst', 'MakeAmericaGreatAgain', 'MAGA', 'Debate', 'MAGA', 'debates', 'BigLeagueTruth', 'Debates', 'Debates', 'debate', 'bigleaguetruth', 'debates', 'BigLeag', 'BigLeagueTruth', 'debate', 'TrumpTrain', 'Debates2016', 'Deplorables', 'BigLeagueTruth', 'Debate', 'Debate', 'Debate', 'BigLeagueTruth', 'Debate', 'BigLeagueTruth', 'BigLeagueTruth', 'Debates', 'BigLeagueTruth', 'Debates2016', 'Debates2016', 'rattledhillary', 'Debates2016', 'RattledHillary', 'RattledHillary', 'BigLeagueTruth', 'Debat', 'D', 'Debates2016', 'Debate', 'Debates2016', 'ICYMI', 'MAGA', 'BigLeagueTruth', 'Debate', 'CrookedHillary', 'BigLeagueTruth', 'Debates2016', 'BigLeagueTruth', 'Debates', 'Debates2016', 'BigLeagueTruth', 'Debates2016', 'Debate', 'debate', 'MAGA', 'ObamaCare', 'Debates2016', 'BigLeagueTruth', 'Debates', 'debate', 'CrookedHillary', 'BigLeagueTruth', 'Debates', 'BigLeagueTruth', 'BigLeagueTruth', 'Debate2016', 'debate', 'BigLeagueTruth', 'BigLeagueTruth', 'Debates2016', 'debate', 'BigLeagueTruth', 'Debates', 'debate', 'MakeAmericaGreatAgain', 'FacebookLive', 'debate', 'Trump', 'dtmag', 'MAGA', 'MAGA', 'TrumpPence16', 'MakeAmericaGreatAgain', 'Ohio', 'TrumpPence16', 'MakeAmericaGreatAgain', 'MakeAmericaGreatAgain', 'VPDebate', 'VPDebate', 'MAGA', 'VPdebate', 'Pence', 'VPDebate', 'BigLeagueTruth', 'VPDebate', 'BigLeagueTruth', 'VPDebate', 'Deplorables', 'BasementDwellers', 'VPDebate', 'BigLeagueTruth', 'VPDebate', 'BigLeagueTruth', 'VPDebate', 'VPDebate', 'BigLeagueTruth', 'VPDebate', 'BigLeagueTrut', 'VPDebate', 'Debates2016', 'ISIS', 'VPDebate', 'VPDebate', 'VPDebate', 'VPDebate', 'BigLeagueTruth', 'VPDebate', 'BigLeagu', 'VPDebate', 'Americans', 'Benghazi', 'MAGA', 'VPDebates', 'BigLeagueTruth', 'makeamericagreatagain', 'VPDebate', 'pence', 'cbsnews', 'bengazi', 'AmericaFirst', 'AmericaFirst', 'MAGA', 'MAGA', 'MAGA', 'BigLeagueTruth', 'TrumpRally', 'AmericaFirst', 'MAGA', 'failing', 'AmericaFirst', 'TrumpPence16', 'TrumpTrain', 'TrumpRally', 'FollowTheMoney', 'FollowTheMoney', 'TrumpRally', 'AmericaFirst', 'MAGA', 'FollowTheMoney', 'AmericaFirst', 'MAGA', 'Fo', 'ImWithYou', 'MakeAmericaGreatAgain', 'VoterRegistrationDay', 'MakeAmericaGreatAgain', 'MAGA', 'ImWithYou', 'MAGA', 'MAGA', 'AmericaFirst', 'MAGA', 'ImWithYou', 'TrumpWon', 'MAGA', '1', 'TrumpWon', 'DebateNight', 'MAGA', 'DebateNight', 'AmericaFirst', 'ImWithYou', 'DebateNight', 'AmericaFirst', 'MAGA', 'AmericaFirst', 'Debates2016', 'AmericaFirst', 'Debates2016', 'MAGA', 'DebateNight', 'Benghazi', 'Debates2016', 'debatenight', 'ISIS', 'DebateNight', 'Debates20', 'Debates2016', 'Debates2016', 'MAGA', 'DebateNight', 'DebateNight', 'Debates2016', 'MAGA', 'MAGA', 'Debates', 'De', 'Debates2016', 'Debates2016', 'DebateNight', 'Debates2016', 'TPP', 'Debates2016', 'Debates2016', 'DebateNight', 'DebateNight', 'TrumpPence16', 'Polls', 'slipping', 'TrumpTrain', 'AmericaFirst', 'TrumpTrain', 'MAGA', 'TrumpTrain', 'MAGA', 'MakeAmericaGreatAgain', 'MAGA', 'MAGA', 'AmericaFirst', 'MakeAmericaGreatAgain', 'AmericaFirst', 'MakeAmericaGreatAgain', 'ImWithYou', 'AmericaFirst', 'polls', 'MAGA', 'AmericaFirst', 'TheDonald', 'JimmyFallon', 'TheTonightShow', 'TrumpPence16', 'MyTeacherIsWeird', 'FallonTonight', 'MAGA', 'LESM', 'MAGA', 'MAGA', 'MAGA', 'AmericaFirst', 'ImWithYou', 'ImWithYou', 'AmericaFirst', 'ImWithYou', 'AmericaFirst', 'MakeAmericaGreatAgain', 'MakeAmericaGreatAgain', 'AmericaFirst', 'MAGA', 'MAGA', 'NeverForget', 'AmericaFirst', 'AmericaFirst', 'ImWithYou', 'MakeAmericaGreatAgain', 'ImWithYou', 'MAGA', 'AmericaFirst', 'TrumpTrain', 'AmericaFirst', 'ImWithYou', 'POTUS', 'MAGA', 'TrumpTrain', 'CommanderInChiefForum', 'AmericaFirst', 'AmericaFirst', 'AmericaFirst', 'MAGA', 'media', 'VoteTrump', 'MakeAmericaGreatAgain', 'ImWithYou', 'VoteTrump', 'VoteTrump', 'ImWithYou', '1', 'AmericaFirst', 'AmericaFirst', 'AmericaFirst', 'LaborDay', 'MAGA', 'LaborDay', 'AmericaFirst', 'MAGA', 'ImWithYou', 'AmericaFirst', 'ImWithYou', 'MakeAmericaGreatAgain', 'ImWithYou', 'MAGA', 'ImWithYou', 'ALConvention2016', 'AmericaFirst', 'ImWithYou', 'AmericaFirst', 'MakeAmericaGreatAgain', 'ImWithYou', 'MakeAmericaGreatAgain', 'ImWithYou', 'ImWithYou', 'ImWithYou', 'AmericaFirst', 'TrumpinEverett', 'MAGA', 'MAGA', 'ImWithYou', 'ImWithYou', 'MakeAmericaGreatAgain', 'ImWithYou', 'Obamacare', 'CrookedHillary', 'VoteTrump', 'TrumpPence2016', 'NeverHillary', 'ImWithYou', 'BlackMenForBernie', 'Hillary2016', 'BlacksForTrump', 'ImWithYou', 'AmericaFirst', 'TrumpPence16', 'ImWithYou', 'MakeAmericaGreatAgain', 'Enjoy', 'CrookedHillary', 'FlashbackFriday', 'CrookedHillary', 'brexit', 'MAGA', 'Hannity', 'BuildTheWall', 'AmericaFirst', 'ImWithYou', 'TrumpPence16', 'MakeAmericaGreatAgain', 'MakeAmericaGreatAgain', 'MakeAmericaSafeAgain', 'MakeAmericaGreatAgain', 'TeamTrump', 'MAGA', 'TrumpPence16', 'MAGA', 'TrumpPence16', 'TrumpPence16', 'MAGA', 'AlwaysTrump', 'StandWithLouisiana', 'WheresHillary', 'TrumpPence16', 'ImWithYou', 'TrumpTrain', 'MakeAmericaGreatAgain', 'CrookedHillary', 'ThrowbackThursday', 'MakeAmericaGreatAgain', 'ImWithYou', 'Obamacare', 'ImWithYou', 'MakeAmericaSafeAgain', 'ImWithYou', 'MakeAmericaGreatAgain', 'ImWithYou', 'ImWithYou', 'LawandOrder', 'ImWithYou', 'LawandOrder', 'ImWithYou', 'MakeAmericaGreatAgain', 'Obamacare', 'AmericasMerkel', 'MakeAmericaSafeAgain', 'MakeAmericaGreatAgain', 'USA', 'TrumpTrain', 'MakeAmericaGreatAgain', 'MAGA', 'CrookedHillary', 'AmericaFirst', 'AmericaFirst', 'MakeAmericaGreatAgain', 'MakeAmericaGreatAgain', 'MakeAmericaGreatAgain', 'MAGA', 'LESM', '2A', 'TrumpPence16', 'TrumpPence16', 'MakeAmericaGreatAgain', 'ElectionDay', '2A', 'DefendtheSecond', 'NeverHillary', '2A', 'SCOTUS', 'NeverHillary', 'MAGA', 'NeverHillary', 'MakeAmericaGreatAgain', 'taxplan', 'smallbiz', 'ICYMI', 'TrumpPence16', 'MAGA', 'CrookedHillary', 'TrumpPence16', 'TeamUSA', 'OpeningCeremony', 'Rio2016', 'TrumpPence16', 'MAGA', 'TrumpPence16', 'MAGA', 'TrumpTrain', 'AmericaFirst', 'MakeAmericaSafeAgain', 'AmericaFirst', 'CrookedHillary', 'AmericaFirst', 'CrookedHillary', 'AmericaFirst', 'CrookedHillary', 'AmericaFirst', 'CrookedHillary', 'MakeAmericaGreatAgain', 'CoastGuardDay', 'MAGA', 'MakeAmericaGreatAgain', 'MAGA', 'ImWithYou', 'LESM', 'MAGA', 'MakeAmericaGreatAgain', 'ICYMI', 'CrookedHillary', 'MakeAmericaGreatAgain', 'ImWithYou', 'CrookedHillary', 'MAGA', 'TrumpMovement', 'MAGA', 'ImWithYou', 'MAGA', 'ImWithYou', 'MAGA', 'MakeAmericaGreatAgain', 'ImWithYou', 'CrookedHillary', 'VoterFraud', 'MSM', '1', 'CrookedHillary', 'CrookedHillary', 'MAGA', 'Trump2016', 'MakeAmericaGreatAgain', 'CrookedHillary', 'MakeAmericaGreatAgain', 'LESM', 'TrumpPence16', 'TrumpPence16', 'NeverHillary', 'NeverHillary', 'CrookedHillary', 'TBT', 'MAGA', 'MAGA', 'DNC', 'NATO', 'DemsInPhilly', 'MakeAmericaGreatAgain', 'CrookedHillary', 'MakeAmericaGreatAgain', 'MAGA', 'MakeAmericaGreatAgain', 'MakeAmericaGreatAgain', 'TrumpPence16', 'MAGA', 'TrumpPence16', 'MAGA', 'TrumpPence16', 'TrumpPence16', 'TrumpPence16', 'MakeAmericaGreatAgain', 'MAGA', 'MakeAmericaGreatAgain', 'MakeAmericaGreatAgain', 'TrumpPence16', 'HillaryKaine2016', 'MakeAmericaSafeAgain', 'RNCinCLE', 'TrumpPence16', 'RNCinCLE', 'TrumpIsWithYou', 'MakeAmericaGreatAgain', 'RNCinCLE', 'RNCinCLE', 'TrumpPence2016', 'RNCinCLE', 'AmericaFirst', 'RNCinCLE', 'GOPinCLE', 'GOPConvention', 'AmericaFirst', 'AmericaFirst', 'RNCinCLE', 'AmericaFirst', 'RNCinCLE', 'TextTrump88022', 'AmericaFirst', 'AmericaFirst', 'RNCinCLE', 'GOPConvention', 'AmericaFirst', 'RNCinCLE', 'MakeAmericaWorkAgain', 'TrumpPence16', 'RNCinCLE', 'MakeAmericaWorkAgain', 'TrumpPence16', 'RNCinCLE', 'GOPConvention', 'GOPConvention', 'RNCinCLE', 'MakeAmericaSafeAgain', 'GOPConvention', 'RNCinCLE', 'MakeAmericaSafeAgain', 'RNCinCLE', '60Minutes', 'TrumpPence16', 'NeverTrump', 'ImWithYou', 'Trump2016', 'ImWithYou', 'CrookedHillary', 'CrookedHillary', 'CrookedHillary', 'ImWithYou', 'ImWithYou', 'Trump2016', 'Trump2016', 'ImWithYou', 'CrookedHillary', 'CrookedHillary', 'ImWithYou', 'MakeAmericaGreatAgain', 'ImWithYou', 'Trump2016', 'Trump2016', 'AmericaFirst', 'Trump2016', 'MakeAmericaGreatAgain', 'Trump2016', 'Trump2016', 'AmericaFirst', 'Frozen', 'RiggedSystem', 'Trump2016', 'AmericaFirst', 'ImWithYou', 'AmericaFirst', 'LeadRight2016', 'AmericaFirst', 'AmericaFirst', 'ImWithYou', 'AmericaFirst', '2A', 'AmericaFirst', 'ImWithYou', 'ImWithYou', 'AmericaFirst', 'ImWithYou', 'WCS16', 'ImWithYou', 'AmericaFirst', 'AmericaFirst', 'ThrowbackThursday', 'Trump2016', 'WakeUpAmerica', 'Trump2016', 'CrookedHillary', 'Trump2016', 'POTUS', 'UPUPUP', 'Trump', 'Trump2016', 'MAGA', 'dtmag', 'CrookedHillary', 'AmericaFirst', 'ImWithYou', 'imwithyou', 'Imwithyou', 'CrookedHillary', 'Imwithyou', 'Imwithyou', 'Imwithyou', 'MakeAmericaGreatAgain', 'Trump2016', 'Trump2016', 'Trump2016', 'AmericaFirst', 'Trump2016', 'AmericaFirst', 'Trump2016', 'AmericaFirst', 'Trump2016', 'AmericaFirst', 'AmericaFirst', 'Trump2016', 'AmericaFirst', 'Trump2016', 'AmericaFirst', 'AmericaFirst', 'TrumpDallas', 'Trump', 'Trump2016', 'AmericaFirst', 'Trump2016', 'AmericaFirst', 'AmericaFirst', 'Trump2016', 'StanleyCup', 'Trump2016', 'AmericaFirst', 'AmericaFirst', 'AmericaFirst', 'AmericaFirst', 'TrumpTrain', 'MakeAmericaGreatAgain', 'Trump2016', 'RTM2016', 'Trump2016', 'Trump2016', 'FlashbackFriday', 'CrookedHillary', 'Trump2016', 'MakeAmericaGreatAgain', 'Trump2016', 'AmericaFirst', 'Trump2016', 'Trump2016', 'Trump2016', 'Trump2016', 'Trump2016', 'Trump2016', 'MakeAmericaGreatAgain', 'DDay', '1', 'POTUS', 'Elkhart', 'MakeAmericaGreatAgain', 'VoteTrump2016', 'TrumpTrain', 'MakeAmericaGreatAgain', 'CAPrimary', 'Women4Ttump', 'Trump2016', 'Trump2016', 'MAGA', 'TRUMP2016', 'MakeAmericaGreatAgain', 'Trump2016', 'Teachers4Trump', 'CA4Trump', 'NeverDems', 'MakeAmericaGreatAgain', 'MakeAmericaGreatAgain', 'Trump2016', 'Trump2016', 'TRUMP', 'Trump2016', 'MDW', 'Trump2016', 'Trump2016', 'Trump2016', 'MakeAmericaGreatAgain', 'Trump2016', 'MeetTheTrumps', 'Trump2016', 'Trump2016', 'Trump2016', 'Trump2016', 'Trump2016', 'TrumpTrain', 'MakeAmericaGreatAgain', 'TrumpTrain', 'Trump2016', 'MakeAmericaGreatAgain', 'Trump2016', 'Trump2016', 'Trump2016', 'MAGA', 'ArmedForcesDay', 'TrumpTrain', 'Trump2016', 'MakeAmericaGreatAgain', 'Trump2016', 'Trump2016', '2A', 'SecondAmendment', '2A', 'MakeAmericaGreatAgain', 'Trump2016', 'Trump2016', 'MakeAmericaGreatAgain', 'AmericaFIRST', 'Trump2016', 'MakeAmericaGreatAgain', 'MakeAmericaGreatAgain', 'MegynKellyPresents', 'MakeAmericaGreatAgain', 'Trump', 'VoteTrump', 'ORPrimary', 'MakeAmericaGreatAgain', 'Trump2016', 'Trump2016', 'Trump2016', 'Trump2016', 'Trump2016', 'MakeAmericaGreatAgain', 'Trump2016', 'MakeAmericaGreatAgain', 'Trump2016', 'MakeAmericaGreatAgain', 'Trump2016', 'MakeAmericaGreatAgain', 'Trump2016', 'MakeAmericaGreatAgain', 'Trump2016', 'VoteTrump', 'MakeAmericaGreatAgain', 'Trump2016', 'VoteTrump', 'MakeAmericaGreatAgain', 'Trump2016', 'RepMikeKelly', 'NebraskaPrimary', 'Trump2016', 'TrumpForPresident', 'NEPrimary', 'VoteTrump', 'Trump2016', 'WVPrimary', 'VoteTrump', 'Trump2016', 'MattSchlapp', 'jenniferrubin', 'GOP', 'HappyMothersDay', 'MakeAmericaGreatAgain', 'TrumpTrain', 'Trump2016', 'Trump2016', 'MakeAmericaGreatAgain', 'CincoDeMayo', 'Trump2016', 'MakeAmericaGreatAgain', 'INPrimary', 'VoteTrump', 'INPrimary', 'Trump2016', 'VoteTrump', 'Trump2016', 'Trump2016', 'VoteTrump', 'INPrimary', 'VoteTrump', 'INPrimary', 'VoteTrump', 'VoteTrump', 'INPrimary', 'INPrimary', 'MakeAmericaGreatAgain', 'VoteTrump', 'INPrimary', 'MakeAmericaGreatAgain', 'INPrimary', 'Trump2016', 'Trump2016', 'MakeAmericaGreatAgain', 'INPrimary', 'Trump2016', 'INPrimary', 'MakeAmericaGreatAgain', 'FNS', 'Trump2016', 'Trump2016', 'MAGA', 'Trump2016', 'Trump2016', 'INDPrimary', 'MakeAmericaGreatAgain', 'Trump2016', 'MakeAmericaGreatAgain', 'MakeAmericaGreatAgain', 'Trump2016', 'Indiana', 'MakeAmericaGreatAgain', 'Trump2016', 'Trump2016', 'Trump2016', 'Trump2016', 'Trump2016', 'Trump2016', 'MakeAmericaGreatAgain', 'VoteTrump', 'VoteTrump', 'VoteTrump', 'VoteTrump', 'VoteTrump', 'Trump2016', 'MakeAmericaGreatAgain', 'Trump2016', 'CTPrimary', 'DEPrimary', 'MDPrimary', 'PAPrimary', 'RIPrimary', 'MakeAmericaGreatAgain', 'PAPrimary', 'VoteTrump', 'RIPrimary', 'VoteTrump', 'NYPrimary', 'GOP', 'Trump2016', 'MakeAmericaGreatAgain', 'TrumpTrain', 'MakeAmericaGreatAgain', 'Trump2016', 'MakeAmericaGreatAgain', 'Trump2016', 'MakeAmericaGreatAgain', 'Trump2016', 'Trump2016', 'MakeAmericaGreatAgain', 'Trump2016', 'Trump2016', 'MakeAmericaGreatAgain', 'MakeAmericaGreatAgain', 'Trump2016', 'Trump2016', 'Trump2016', 'MakeAmericaGreatAgain', 'Trump360', 'Trump2016', 'MakeAmericaGreatAgain', 'Trump2016', 'TrumpTrain', 'Trump2016', 'MakeAmericaGreatAgain', 'MakeAmericaGreatAgain', 'Trump2016', 'MakeAmericaGreatAgain', 'NewYorkValues', 'NYPrimary', 'VoteTrump', 'POTUS', 'Trump2016', 'VoteTrumpNY', 'PrimaryDay', 'MakeAmericaGreatAgain', 'Trump2016', 'MakeAmericaGreatAgain', 'VoteTrump', 'ICYMI', 'Trump2016', 'VoteTrumpNY', 'Trump2016', 'MakeAmericaGreatAgain', 'NYPrimary', 'MakeAmericaGreatAgain', 'NYPrimary', 'NewYorkValues', 'MakeAmericaGreatAgain', 'MakeAmericaGreatAgain', 'NYPrimary', 'MakeAmericaGreatAgain', 'Trump2016', 'NYPrimary', 'TrumpTrain', 'Trump2016', 'VoteTrumpNY', 'MakeAmericaGreatAgain', 'Trump2016', 'presidenttrump', 'primary', 'NYPrimary', 'NYPrimary', 'ICYMI', 'NYPrimary', 'Trump2016', 'Trump2016', 'Trump2016', 'NYPrimary', 'Trump2016', 'MakeAmericaGreatAgain', 'Trump2016', 'Trump2016', 'Trump2016', 'TrumpTrain', 'MakeAmericaGreatAgain', 'Trump2016', 'MakeAmericaGreatAgain', 'Trump2016', 'NewYorkValues', 'MakeAmericaGreatAgain', 'Trump2016', 'Trump2016', 'MakeAmericaGreatAgain', 'Trump2016', 'NewYorkValues', 'MakeAmericaGreatAgain', 'Trump2016', 'Trump2016', 'NYPrimary', 'Trump2016', 'TrumpTrain', 'TrumpTrain', 'MakeAmericaGreatAgain', 'Trump2016', 'MakeAmericaGreatAgain', 'Trump2016', 'TrumpTrain', 'MakeAmericaGreatAgain', 'NewYorkValues', 'MakeAmericaGreatAgain', 'trump2016', 'MAKEAMERICAGREATAGAIN', 'trump', 'HaileyPuckett', 'WakeUpAmerica', 'NewDay', 'MakeAmericaGreatAgain', 'MakeAmericaGreatAgain', 'MakeAmericaGreatAgain', 'Trump2016', 'WIPrimary', 'Trump2016', 'MAGA', 'Wisconsin', 'T', 'Wisconsin', 'MakeAmericaGreatAgain', 'TrumpTrain', 'VoteTrump', 'DonaldTrump', 'WIPrimary', 'Trump2016', 'Trump2016', 'WIPrimary', 'Wisconsin', 'Trump2016', 'WIPrimary', 'VoteTrumpWI', 'WIPrimary', 'MakeAmericaGreatAgain', 'Trump2016', 'WIPrimary', 'Trump2016', 'MakeAmericaGreatAgain', 'Trump2016', 'MakeAmericaGreatAgain', 'Trump2016', 'Trump2016', 'Trump2016', 'WIPrimary', 'MakeAmericaGreatAgain', 'Trump2016', 'WISCONSIN', 'VoteTrump', 'Trump2016', 'Racine', 'Wausau', 'EauClaire', 'Trump2016', 'WIPrimary', 'TrumpTrain', 'JohnRyder', 'WIPrimary', 'Trump2016', 'WIPrimary', 'Trump2016', 'MakeAmericaGreatAgain', 'Trump2016', 'Trump2016', 'Trump2016', 'MakeAmericaGreatAgain', 'VoteTrump', 'WIPrimary', 'Trump2016', 'WIPrimary', 'Trump2016', 'MakeAmericaGreatAgain', 'Trump2016', 'MakeAmericaGreatAgain', 'Trump2016', 'Trump2016', 'MakeAmericaGreatAgain', 'WIPrimary', 'MakeAmericaGreatAgain', 'WOMEN4TRUMP', 'Derp', 'LyingTed', 'VoteTrump2016', 'LyingTed', 'NeverCruz', 'Trump2016', 'Trump2016', 'MakeAmericaGreatAgain', 'TrumpTrain', 'Trump2016', 'WesternTuesday', 'TrumpTrain', 'POTUS', 'UtahCaucus', 'UTCaucus', 'MakeAmericaGreatAgain', 'Trump2016', 'ArizonaPrimary', 'AZPrimary', 'MakeAmericaGreatAgain', 'Trump2016', 'VoteTrump', 'AZPrimary', 'ArizonaPrimary', 'UtahCaucus', 'UTCaucus', 'AmericanSamoa', 'Brussels', 'Arizona', 'AIPAC2016', 'VoteTrump', 'AZPrimary', 'MakeAmericaGreatAgain', 'Trump2016', 'VoteTrump', 'MakeAmericaGreatAgain', 'MakeAmericaGreatAgain', 'MakeAmericaGreatAgain', 'WattersWorld', 'Trump2016', 'VoteTrump', 'MakeAmericaGreatAgain', 'MakeAmericaGreatAgain', 'Trump2016', 'TrumpCountry', 'Utah', 'Mormon', 'UtahPrimary', 'Utah4Trump', 'Utah', 'voteTrump', 'Trump', 'Trump', 'Trump2016', 'AZ', 'UT', 'MakeAmericaGreatAgain', 'Trump2016', 'Trump2016', 'Trump2016', 'MakeAmericaGreatAgain', 'MakeAmericaGreatAgain', 'Trump2016', 'Trump2016', 'MakeAmericaGreatAgain', 'MakeAmericaGreatAgain', 'Trump2016', 'Trump2016', 'MakeAmericaGreatAgain', 'SuperTuesday', 'MakeAmericaGreatAgain', 'Trump2016', 'Trump2016', 'SuperTuesday', 'MakeAmericaGreatAgain', 'SuperTuesday', 'MakeAmericaGreatAgain', 'Trump2016', 'SuperTuesday', 'Trump2016', 'MakeAmericaGreatAgain', 'CNN', 'VoteTrump', 'SuperTuesday', 'TrumpTrain', 'FL', 'OH', 'NC', 'IL', 'MO', 'VOTE', 'SuperTuesday', 'LetsDoThis', 'MakeAmericaGreatAgain', 'T', 'SuperTuesday', 'VoteTrump', 'VoteTrump', 'SuperTuesday', 'GO', 'MakeAmericaGreatAgain', 'VoteTrump', 'Trump2016', 'MakeAmericaGreatAgain', 'VoteTrump', 'VoteTrump', 'VoteTrump', 'Trump2016', 'MakeAmericaGreatAgain', 'TrumpTrain', 'EndCommonCore', 'Trump2016', 'MakeAmericaGreatAgain', 'Trump2016', 'MakeAmericaGreatAgain', 'Trump2016', 'VoteTrump', 'Trump2016', 'Trump2016', 'MakeAmericaGreatAgain', 'Trump2016', 'GOPDebate', 'NeverTrump', 'Trump2016', 'MakeAmericaGreatAgain', 'GOPDebate', 'Donald', 'LightweightSenatorMarcoRubio', 'MakeAmericaGreatAgain', 'Trump2016', 'Trump2016', 'TrumpTrain', 'Trump2016', 'Trump2016', 'Trump2016', 'Trump2016', 'Trump2016', 'TrumpWaikiki', 'Mahalo', 'Mediafraud', 'VoteTrumpID', 'Trump2016', 'VoteTrumpHI', 'Trump2016', 'VoteTrumpMI', 'Trump2016', 'VoteTrumpMS', 'Trump2016', 'MSPrimary', 'TRUMPDOG', 'TrumpTrain', '1', 'Trump2016', 'MakeAmericaGreatAgain', 'Trump2016', 'SuperSaturday', 'Trump2016', 'SuperSaturday', 'MakeAmericaGreatAgain', 'VoteTrump', 'MakeAmericaGreatAgain', 'TrumpTrain', 'LittleMarco', 'CaucusForTrump', 'Trump2016', 'KansasCaucus', 'MakeAmericaGreatAgain', 'Trump2016', 'CaucusForTrump', 'VoteTrump', 'MakeAmericaGreatAgain', 'MakeAmericaGreatAgain', 'Trump2016', 'MakeAmericaGreatAgain', 'VoteTrump', 'MakeAmericaGreatAgain', 'MakeAmericaGreatAgain', 'Trump2016', 'VoteTrumpMI', 'VoteTrumpKS', 'Trump2016', 'MakeAmericaGreatAgain', 'Trump2016', 'MorningJoe', 'Trump2016', 'MakeAmericaGreatAgain', 'Trump2016', 'GOPDebate', 'MakeAmericaGreatAgain', 'Trump2016', 'Trump2016', 'GOPDebate', 'TrumpTrain', 'MAGA', 'MakeAmericaGreatAgain', 'Trump2016', 'KenLangone', 'NeilCavuto', 'Fox', 'OnTheRecord', 'SuperTuesday', 'Trump2016', 'SuperTuesday', 'Trump2016', 'SuperTuesday', 'Trump2016', 'SuperTuesday', 'Trump2016', 'SuperTuesday', 'Trump2016', 'SuperTuesday', 'Trump2016', 'SuperTuesday', 'SuperTuesday', 'Trump2016', 'VoteTrump', 'MakeAmericaGreatAgain', 'VoteTrump', 'Trump2016', 'MakeAmericaGreatAgain', 'SuperTuesday', 'SuperTuesday', 'MakeAmericaGreatAgain', 'FAIL', 'Politician', 'VoteTrump', 'SuperTuesday', 'VoteTrump', 'SuperTuesday', 'NASCAR', 'Trump2016', 'VoteTrump', 'VoteTrump', 'Trump2016', 'TrumpInstagram', 'Trump2016', 'MakeAmericaGreatAgain', 'Trump2016', 'MakeAmericaGreatAgain', 'Trump2016', 'Trump2016', 'MakeAmericaGreatAgain', 'MakeAmericaGreatAgain', 'Trump2016', 'Trump2016', 'RobotRubio', 'MakeAmericaGreatAgain', 'Trump2016', 'MakeAmericaGreatAgain', 'AlwaysTrump', 'Trump2016', 'TrumpTrain', 'StopCommonCore', 'MakeAmericaGreatAgain', 'VoteTrump', 'RogerStone', 'VoteTrump', 'Trump2016', 'MakeAmericaGreatAgain', 'Trump2016', 'Greta', 'MakeAmericaGreatAgain', 'Trump2016', 'MakeAmericaGreatAgain', 'MakeAmericaGreatAgain', 'Trump2016', 'LoneStarState', 'SuperTuesday', 'MakeAmericaGreatAgain', 'Trump2016', 'MakeAmericaGreatAgain', 'Trump2016', 'GOPDebate', 'MakeAmericaGreatAgain', 'MakeAmericaGreatAgain', 'Trump2016', 'MakeAmericaGreatAgain', 'Trump2016', 'Trump2016', 'MakeYoutubeGreatAgain', 'Trump2016', 'VoteTrump', 'MakeAmericaGreatAgain', 'MakeAmericaGreatAgain', 'NoLoyalty', 'Trump2016', 'Trump2016', 'Trump2016', 'Trump2016', 'MakeAmericaGreatAgain', 'NVcaucus', 'NVcaucus', 'VoteTrumpNV', 'NevadaCaucus', 'TrumpLV', 'NevadaCaucus', 'VoteTrumpNV', 'NevadaCaucus', 'VoteTrumpNV', 'VoteTrumpNV', 'NevadaCaucus', 'VoteTrumpVT', 'VoteTrumpMI', 'VoteTrumpNC', 'VoteTrumpMA', 'VoteTrumpIL', 'trump2016', 'ICYMI', 'Hannity', 'Trump2016', 'BikersForTrump', 'VoteTrumpNV', 'Trump2016', 'VoteTrumpNV', 'Trump2016', 'VoteTrumpNV', 'Trump2016', 'Trump2016', 'SCPrimary', 'MakeAmericaGreatAgain', 'WATCH', 'fairandbalancedmyass', 'VoteTrump', 'VoteTrump', 'VoteTrump', 'Ted', 'SouthCarolina', 'MakeAmericaGreatAgain', 'Trump2016', 'MakeAmericaGreatAgain', 'Trump2016', 'ObamaCare', 'MAKEAMERICAGREATAGAIN', 'ObamaCare', 'SCPrimary', 'VoteTrumpSC', 'MakeAmericaGreatAgain', 'MakeAmericaGreatAgain', 'VoteTrumpSC', 'Trump2016', 'Trump2016', 'VoteTrumpSC', 'vaticanwalls', 'SCPrimary', 'Trump2016', 'SCPrimary', 'Trump2016', 'VoteTrumpSC', 'MakeAmericaGreatAgain', 'Trump2016', 'Trump2016', 'SCPrimary', 'VoteTrumpSC', 'Trump2016', 'MakeAmericaGreatAgain', 'Trump2016', 'MakeAmericaGreatAgain', 'Trump2016', 'MakeAmericaGreatAgain', 'Trump2016', 'POTUS', 'Trump2016', 'SCPrimary', 'Colbert', 'LSSC', 'MakeAmericaGreatAgain', 'Trump2016', 'TeamTrump', 'MaitnerStrong', 'VoteTrumpSC', 'MakeAmericaGreatAgain', 'VoteTrumpSC', 'VoteTrumpSC', 'MakeAmericaGreatAgain', 'Trump2016', 'VoteTrumpSC', 'GOPDebate', 'GoogleTrends', 'GOPDebate', 'MakeAmericaGreatAgain', 'GOPDebate', 'GOPDebate', 'GOPDebate', 'Trump', 'Ford', 'Carrier', 'Jobs', 'Mexico', 'SouthCarolinaPrimary', 'Trump2016', 'Trump2016', 'MakeAmericaGreatAgain', 'MakeAmericaGreatAgain', 'Trump2016', 'MakeAmericaGreatAgain', 'MakeAmericaGreatAgain', 'MakeAmericaGreatAgain', 'Trump2016', 'MakeAmericaGreatAgain', 'Trump2016', 'MakeAmericaGreatAgain', 'MakeAmericaGreatAgain', 'SCPrimary', 'FITN', 'NHPrimary', 'FITN', 'NHPrimary', 'VoteTrumpNH', 'VoteTrumpNH', 'VoteTrumpNH', 'MakeAmericaGreatAgain', 'FITN', 'FITN', 'FITN', 'NHPrimary', 'VoteTrumpNH', 'VoteTrumpNH', 'NHPrimary', 'FITN', 'FITN', 'VoteTrumpNH', 'CommonCore', 'FITN', 'NHPrimary', 'GOPDebate', 'SuperBowlSunday', 'SB50', 'FITN', 'NHPrimary', 'FITN', 'VoteTrumpNH', 'GOPDebate', 'MakeAmericaGreatAgain', 'FITN', 'GOPDebate', 'GOPDebate', 'GOPDebate', 'GPLFers', 'GOPDebate', 'MakeAmericaGreatAgain', 'TrumpTrain', 'FITN', 'NHPrimary', 'Hannity', 'MAKEAMERICAGREATAGAIN', 'VoteTrump', 'TrumpSupporters', 'MakeAmericaGreatAgain', 'MakeAmericaGreatAgain', 'MakeAmericaGreatAgain', 'NewHampshire', 'FITN', 'VoteTrumpNH', 'FITN', 'NHPolitics', 'Trump2016', 'Trump2016', 'ICYMI', 'Trump2016', 'MakeAmericaGreatAgain', 'VotersSpeak', 'MakeAmericaGreatAgain', 'FITN', 'ObamaCare', 'CruzFraud', 'FITN', 'Trump2016', 'TrumpTrain', 'VoteTrump2016', 'CruzCrew', 'CaucusForTrump', 'SnowflakeGardenBrunch', 'CaucusForTrump', 'IACaucus', 'CaucusForTrump', 'CaucusForTrump', 'IACaucus', 'CaucusForTrump', 'IACaucus', 'CaucusForTrump', 'iCaucused', 'iVoted', 'CaucusForTrump', 'IACaucus', 'CaucusForTrump', 'MakeAmericaGreatAgain', 'Trump2016', 'IACaucus', 'Trump2016', 'IACaucus', 'Trump2016', 'MakeAmericaGreatAgain', 'Trump2016', 'GOPDebate', 'GOPDebate', 'IACaucus', 'IACaucus', 'MakeAmericaGreatAgain', 'GOPDebate', 'ThankAVet', 'GOPDebate', 'Trump2016', 'IACaucus', 'Trump4Vets', 'Trump2016', 'IACaucus', 'Trump2016', 'GOPDebate', 'MichaelMoore', 'FoxNews', 'ROGERAILES', 'Iowa', 'YUGE', 'Trump2016', 'IACaucus', 'Trump2016', 'MakeAmericaGreatAgain', 'Trump2016', 'MakeAmericaGreatAgain', 'GOPDebate', 'MakeAmericaGreatAgain', 'Trump2016', 'Trump2016', 'Trump2016', 'IACaucus', 'GOPdebate', 'MakeAmericaGreatAgain', 'Trump2016', 'IACaucus', 'MakeAmericaGreatAgain', 'MakeAmericaGreatAgain', 'Trump2016', 'FITN', 'Trump2016', 'FITN', 'IowaCaucus', 'FITN', 'VoteTrump', 'IACaucus', 'FITN', 'Trump2016', 'NewYork', 'Jonas', 'IACaucus', 'Trump2016', 'MakeAmericaGreatAgain', 'Trump2016', 'Trump2016', 'MakeAmericaGreatAgain', 'WeAreBernie', 'WeWantTrump', 'makeamericagreatagain', 'trump', 'With_Cruz_you_lose', 'MakeAmericaGreatAgain', 'trump2016', 'VoteTrump', 'MakeAmericaGreatAgain', 'FITN', 'Trump2016', 'Trump2016', 'IACaucus', 'Trump2016', 'AmericaGreatAgain', 'Excellent', 'Trump2016', 'IACaucus', 'MakeAmericaGreatAgain', 'Trump2016', 'VoteTrump', 'Trump2016', 'RNC', 'Trump2016', 'POTUS', 'Trump2016', 'Trump2016', 'MakeAmericaGreatAgain', 'Trump2016', 'Trump2016', 'MakeAmericaGreatAgain', 'MakeAmericaGreatAgain', 'Trump2016', 'MaryBrigidMcManamon', 'CommonLaw', 'NaturalBorn', 'TedCruz', 'MaryBrigidMcManamon', 'Cruz', 'laurencetribe', 'TedCruz', 'LaurenceTribe', 'MakeAmericaGreatAgain', 'VoteTrump', 'TrumpTrain', 'Trump2016', 'FITN', 'IACaucus', 'MakeAmericaGreatAgain', 'Trump2016', 'Trump2016', 'MakeAmericaGreatAgain', 'Trump2016', 'Trump2016', 'Trump2016', 'MakeAmericaGreatAgain', 'Trump2016', 'VoteTrump', 'FITN', 'Trump2016', 'FITN', 'Trump2016', 'NHPolitics', 'Trump2016', 'MakeAmericaGreatAgain', 'Trump2016', 'Trump2016', 'MakeAmericaGreatAgain', 'ECONOMY', 'Trump2016', 'MakeAmericaGreatAgain', 'Trump2016', 'TeamTrump', 'CBNNews', '2016', 'Trump2016', 'Trump2016', 'Trump2016', 'Obamacare', 'Trump2016', 'MakeAmericaGreatAgain', 'Trump2016', 'HarveyPitt', 'GOPDebate', 'Trump2016', 'VoteTrump', 'Trump2016', 'FoxNews', 'Trump2016', 'VoteTrump', 'VoteTrump', 'IowaCaucus', 'VoteTrump', 'VoteTrump', 'MakeAmericaGreatAgain', 'Trump2016', 'VoteTrump', 'Trump2016', 'IACaucus', 'FITN', 'IAPolitics', 'SOTU', 'SOTU', 'Trump2016', 'IACaucus', 'FITN', 'Trump2016', 'TeamTrump', 'Trump2016', 'MakeAmericaGreatAgain', 'Trump2016', 'MakeAmericaGreatAgain', 'Trump2016', 'GoldenGlobe', 'LESM', 'Trump2016', 'Laurence', 'FoxNews', 'MakeAmericaGreatAgain', 'Trump2016', 'MakeAmericaGreatAgain', 'Trump2016', 'Dem', 'Rubio', 'Bush', 'DavidCameron', 'WH', 'Trump4President', 'Trump2016', 'MakeAmericaGreatAgain', 'MakeAmericaGreatAgain', 'Iowan', 'IACaucus', 'MakeAmericaGreatAgain', 'Biloxi', 'Trump', 'Biloxi', 'Mississippi', 'VoteTrump2016', 'ISIS', 'Biloxi', 'Trump2016', 'VoteTrump2016', 'VoteTrump2016', 'MakeAmericaGreatAgain', 'trump2016', 'MarALago', 'HappyNewYearAmerica', 'TBT', 'MakeAmericaGreatAgain', 'Trump2016', 'TrumpOrNobody2016', 'MakeAmericaGreatAgain', 'MakeAmericaGreatAgain', 'Trump2016', 'MakeAmericaGreatAgain', 'Trump2016', 'Trump2016', 'Trump2016', 'Trump2016', 'FITN', 'Benghazi', 'MakeAmericaGreatAgain', 'Trump2016', 'MakeAmericaGreatAgain', 'lets', 'MakeAmericaGreatAgain', 'Trump2016', 'NHPolitics', 'FITN', 'Trump2016', 'Trump2016', 'Benghazi', 'Tcot', 'pjnet', 'Trump2016', 'MakeAmericaGreatAgain', 'Trump2016', '1', 'MakeAmericaGreatAgain', 'CrippledAmerica', 'TBT', 'MakeAmericaGreatAgain', 'MakeAmericaGreatAgain', 'Trump2016', 'Amazon', 'MakeAmericaGreatAgain', 'Trump2016', 'MakeAmericaGreatAgain', 'Trump2016', 'MakeAmericaGreatAgain', 'MakeAmericaGreatAgain', 'Trump2016', 'MSM', 'MSM', 'Hypocrisy', 'MSM', 'Trump2016', 'MakeAmericaGreatAgain', 'Trump2016', 'MakeAmericaGreatAgain', 'Trump2016', 'MakeAmericaGreatAgain', 'Trump2016', 'MissUniverse', 'MakeAmericaGreatAgain', 'Trump2016', 'MissUniverse2015', 'Fox', 'POTUS', 'Trump2016', 'Trump2016', 'DemDebate', 'Trump', 'Trump2016', 'TrumpRocksAmerica', 'VoteTrump2016', 'MakeAmericaGreatAgain', 'tryme', 'WhyISupportTrump', 'MakeAmericaGreatAgain', 'Trump2016', 'VoteTrump2016', 'MakeAmericaGreatAgain', 'MakeAmericaGreatAgain', 'HillaryForPrison2016', 'CrippledAmerica', 'VoteTrump2016', 'MakeAmericaGreatAgain', 'VoteTrump2016', 'MakeAmericaGreatAgain', 'Trump2016', 'MakeAmericaGreatAgain', 'Trump2016', 'ISIS', 'POTUS', 'Trump2016', 'MakeAmericaGreatAgain', 'MakeAmericaGreatAgain', 'Trump2016', 'MakeAmericaGreatAgain', 'Kimmel', 'Trump2016', 'MakeAmericaGreatAgain', 'Fox', 'GOPDebate', 'Kimmel', 'Trump2016', 'MakeAmericaGreatAgain', 'GOPDebate', 'MakeAmericaGreatAgain', 'Trump2016', 'Trump2016', 'GOPDebate', 'GOPDebate', 'Trump2016', 'GOPDebate', 'MakeAmericaGreatAgain', 'GOPDebate', 'Trump', 'TheRemembranceProject', 'JoeTheismann', 'MakeAmericaGreatAgain', 'Trump2016', 'Trump2016', 'MakeAmericaGreatAgain', 'DonaldTrumpForPresident', 'Trump2016', 'CNN', 'Trump2016', 'MakeAmericaGreatAgain', 'Trump2016', 'GOPDebate', 'Tump2016', 'Trump2016', 'MakeAmericaGreatAgain', 'Trump2016', 'MakeAmericaGreatAgain', 'Trump2016', 'MakeAmericaGreatAgain', 'DonaldTrump', 'THEDonald', 'MakeAmericaGreatAgain', 'Trump2016', 'MakeAmericaGreatAgain', 'Trump2016', 'MakeAmericaGreatAgain', 'Trump2016', 'MakeAmericaGreatAgain', 'Trump2016', 'ISIS', 'Trump2016', 'victory', 'MakeAmericaGreatAgain', 'Trump2016', 'Trump2016', 'MakeAmericaGreatAgain', '2', 'MakeAmericaGreatAgain', 'Trump2016', 'Trump2016', 'MakeAmericaGreatAgain', 'Hannity', 'PoliticallyCorrect', 'MakeAmericaGreatAgain', 'ItIsntAboutHer', 'Trump2016', 'Trump2016', 'USSYorktown', 'MakeAmericaGreatAgain', 'Trump2016', 'voteTrump2016', 'Trump16', 'Trump2016', 'ISIS', 'USSYorktown', 'Trump2016', 'MakeAmericaGreatAgain', 'FITN', 'PearlHarbor', 'RememberOurVets', 'MAKEAMERICAGREATAGAIN', 'MakeAmericaGreatAgain', 'Trump2016', 'MakeAmericaGreatAgain', 'Trump2016', 'MakeAmericaGreatAgain', 'TRUMP', 'Trump2016', 'Trump2016', 'FITN', 'IAPolitics', 'TRUMP', 'makeamericagreatagain', 'wakeupamerica', 'TeamTrumpPA', 'Raleigh', 'NorthCarolina', 'Trump2016', 'Trump2016', 'BeCool', 'Trump2016', 'MakeAmericaGreatAgain', 'Trump2016', 'hotsteam', 'unload', 'StayStrong', 'Trump2016', 'MakeAmericaGreatAgain', 'Trump2016', 'MakeAmericaGreatAgain', 'TeamTrump', 'VoteTrump2016', 'apologize', 'TeamTrump', 'Trump2016', 'TeamTrump', 'Trump', 'TeamTrump', 'TeamTrump', 'TeamTrump', 'DocinMich', 'here', 'NewJersey', 'wrong', 'Trump2016', 'Periscope', 'Trump2016', 'Trump', 'MakeAmericaGreatAgain', 'Trump', 'GOP', 'tellingitlikeitis', 'Trump2016', 'MakeAmericaGreatAgain', 'Trump', 'Trump2016', 'TRUMP2016', 'MakeAmericaGreatAgain', 'Trump2016', 'POTUS', 'Trump2016', 'MakeAmericaGreatAgain', 'TurntTrump', 'Trump2016', 'Trump2016', 'RobartsArena', 'Establishment', 'Media', 'PUNDITS', 'TheyRMad', 'MakeAmericaGreatAgain', 'Trump2016', 'Trump2016', 'MakeAmericaGreatAgain', 'Trump2016', 'TeamTrump', 'MakeAmericaGreatAgain', 'Trump2016', 'GOP', 'Trump2016', 'Trump', 'MakeAmericaGreatAgain', 'Trump2016', 'Trump2016', 'FNS', 'Trump2016', 'MakeAmericaGreatAgain', 'Trumponly', 'Trump2016', 'TeamTrump', 'ObamaCare', 'BoycottMacys', 'DumpMacys', 'CrippledAmerica', 'TeamTrump', 'Trump2016', 'MakeAmericaGreatAgain', 'NoClintonInWHEverAgain', 'MakeAmericaGreatAgain', 'Trump2016', 'MakeAmericaGreatAgain', 'DonaldTrump', 'LEO', 'LESM', 'Trump2016', 'Trump2016', 'MakeAmericaGreatAgain', 'Trump2016', 'TeamTrump', 'TeamTrump', 'Trump2016', 'MakeAmericaGreatAgain', 'Trump2016', 'MakeAmericaGreatAgain', 'MeetTheTrumps', 'ABC2020', 'ICYMI', 'OnTheRecord', 'Trump2016', 'MakeAmericaGreatAgain', 'MeetTheTrumps', 'ABC2020', 'YUGE', 'MakeAmericaGreatAgain', 'bamaforTrump', 'POTUS', 'NYC', 'NYC', 'MakeAmericaGreatAgain', 'Trump2016', 'MakeAmericaGreatAgain', 'Trump2016', 'Trump2016', 'IAForums', 'MakeAmericaGreatAgain', 'Trump2016', 'RepealObamacare', 'Trump2016', 'MakeAmericaGreatAgain', 'Trump2016', 'MakeAmericaGreatAgain', 'Trump2016', 'MakeAmericaGreatAgain', 'Trump2016', 'abc2020', 'Trump2016', 'Trump2016', 'MakeAmericaGreatAgain', 'Trump2016', 'MakeAmericaGreatAgain', 'Trump2016', 'MakeAmericaGreatAgain', 'SyrianRefugees', 'ISIS', 'MakeAmericaGreatAgain', 'Trump2016', 'TrumpArmy', 'Trump2016', 'HispanicsForTrump', 'DemocratsForTrump', 'MakeAmericaGreatAgain', 'Trump2016', 'DemDebate', 'Trump2016', 'DemDebate', 'Trump2016', 'Trump2016', 'Trump2016', 'veterans', 'military', 'Trump2016', 'Trump2016', 'Trump2016', 'Trump2016', 'IACaucus', 'Trump2016', 'MakeAmericaGreatAgain', 'Trump2016', 'Trump2016', 'BoycottMacys', 'VoteTrump2016', 'Trump2016', 'MakeAmericaGreatAgain', 'Trump2016', 'MakeAmericaGreatAgain', 'Trump2016', 'Trump2016', 'POTUS2016', 'DonaldTrump', 'SNL', 'MakeAmericaGreatAgain', 'Trump2016', 'SNL', 'USA', 'Trump2016', 'SNL', 'TrumpTrainSNL', 'TrumpOnSNL', 'MakeAmericaGreatAgain', 'Trump2016', 'EverybodyRockW', 'SNL', 'MakeAmericaGreatAgain', 'MakeAmericaGreatAgain', 'SNL', 'Trump2016', 'TrumpArmy', 'CrippledAmerica', 'SNL', 'TrumpTrainSNL', '12HR', 'AMERICAN', 'WE', 'Benghazi', 'MakeAmericaGreatAgain', 'saturdaynightlive', 'SNL', 'SNL', 'SNL', 'SNL', 'SNL', 'SNL', 'trump', 'saturday', 'MakeAmericaGreatAgain', 'TrumpTrain', 'YUGE', '1', 'democratsfortrump', 'SNL', 'MakeAmericaGreatAgain', 'SNL', 'Trump', 'MakeAmericaGreatAgain', 'MSM', 'Trump2016', 'Trump2016', '1', 'trump', 'StopTheLies', 'MakeAmericaGreatAgain', 'HispanicsForTrump', 'democratsfortrump', 'CrippledAmerica', 'MakeAmericaGreatAgain', '1', 'Trump2016', 'MakeAmericaGreatAgain', 'Trump2016', 'CrippledAmerica', 'CrippledAmerica', 'America', 'Reagan', 'CrippledAmerica', 'TrumpOnSNL', 'Trump2016', 'TrumpArmy', 'MakeAmericaGreatAgain', 'Trump2016', 'CrippledAmerica', 'MakeAmericaGreatAgain', 'Trump2016', 'MakeAmericaGreatAgain', 'TrumpTowerNYC', 'tcot', 'Trump2016', 'TrumpTowerNY', 'MakeAmericaGreatAgain', 'Trump2016', 'MakeAmericaGreatAgain', 'RT', 'CNN', 'HBO', 'Media', 'TrumpTower', '28', 'CommonCore', 'Trump2016', 'Americans', 'MakeAmericaGreatAgain', 'MakeAmericaGreatAgain', '1', 'MakeAmericaGreatAgain', 'TrumpTrain', 'RushLimbaugh', 'SeanHannity', 'MarkLevin', 'MakeAmericaGreatAgain', 'Trump2016', 'MakeAmericaGreatAgain', '1', 'Trump', 'Truth', 'MakeAmericaGreatAgain', 'Trump2016', 'GOPDebate', 'GOPDebate', 'MakeAmericaGreatAgain', 'Trump2016', 'winner', 'Trump', 'Trump2016', 'MakeAmerciaGreatAgain', 'TRUMP', 'Trump', 'GOP', 'USA', 'Election2016', 'Trump', 'GOPDebate', 'CNBCGOPDebate', 'Trump2016', 'MakeAmericaGreatAgain', 'GOPDebate', 'GOPDebate', '1', 'CNBCGOPDebate', 'Trump2016', 'GOPDebate', 'YUGE', 'Trump2016', 'TeamTrump', 'TeamTrump16', 'RepublicanDebate', 'Trump2016', 'Trump2016', 'MakeAmericaGreatAgain', 'MakeAmericaGreatAgain', 'Trump2016', 'TrumpTrain', 'Trump2016', 'MakeAmericaGreatAgain', 'MakeAmericaGreatAgain', 'TrumpTODAY', 'TrumpTODAY', 'MakeAmericaGreatAgain', 'TRUMP', 'TrumpTODAY', 'Trump2016', 'JEBbush', 'Trump2016', 'NOISYMAJORITY', 'MakeAmericaGreatAgain', 'TeamTrump', 'Obamacare', 'mexicolovestrump', 'ActingMeek', 'Trump2016', 'ElectTrump', 'TrumpToday', 'TrumpToday', 'Trump2016', 'Crowd', 'BenghaziHearings', 'pathetic', 'ChrisWallace', 'Trump2016', 'MakeAmericaGreatAgain', 'Trump2016', '1', 'MakeAmericaGreatAgain', 'artofwar', 'SomethingSpecialIsHappening', 'TRUTH', 'Trump', 'Trump2016', 'Trump', 'Carson', 'Rubio', 'Hannity', 'MakeAmericaGreatAgain', 'truth', 'Trump2016', 'Trump', 'tcot', 'VoteTrump', 'CoalitionForTrump', 'CitizensForTrump', 'TrumpTrain', 'TrumpForPresident', 'MakeAmericaGreatAgain', 'TeamTrump', 'Trumptrain', 'Trump2016', 'NTXForum', 'WakeUpAmerica', 'C2GTHR', 'Trump2016', 'MakeAmericaGreatAgain', 'Trump2016', 'MakeAmericaGreatAgain', 'STOPTHEPRESSES', 'HellJustFrozeOver', 'TrumpSwagger', 'ChrisWallace', 'MakeAmericaGreatAgain', 'Trump2016', 'MakeAmericaGreatAgain', 'TrumpTrain', 'VOTETRUMP', 'MakeAmericaGreatAgain', 'MakeAmericaGreatAgain', 'Trump2015', 'TrumpTrain', 'MakeAmericaGreatAgain', 'DemDebate', 'Trump2016', 'makeamericagreatagain', 'Trump2016', 'DemDebate', 'DemDebate', 'DemDebate', 'MakeAmericaGreatAgain', 'CNNDebate', 'CNN', 'Debate', 'DNC', 'DemDebate', 'USADJT2016', 'DemDebate', 'DemDebate', 'DemDebate', '1', 'DemDebate', 'DemDebate', 'DemDebate', 'DemDebate', 'DemDebate', 'trump2016', 'DemDebate', 'trump2016', 'DemDebate', 'CNNDebate', 'DemDebate', 'DemDebate', 'DemDebate', 'DemDebate', 'DemDebate', 'DemDebate', 'DemDebate', 'CNNSocialistDebate', 'DemDebate', 'DemDebate', 'democraticdebate', 'Trump2016', 'DemDebate', 'Yourworld', 'DemDebate', 'morningjoe', 'CNNDebate', 'DemDebate', 'WakeUpAmerica', 'MakeAmericaGreatAgain', 'MakeAmericaGreatAgain', 'MediaBuzz', 'MakeAmerciaGreatAgain', 'Trump2016', 'MakeAmericaGreatAgain', 'mediabuzz', 'MakeAmericaGreatAgain', 'AlisaReal', 'Trump2016', 'MakeAmericaGreatAgain', 'IBelieve', 'MakeAmericaGreatAgain', 'trump2016', 'Trump2016', 'asksean', 'MakeAmericaGreatAgain', 'Trump2016', 'MakeAmericaGreatAgain', 'Trump2016', 'NewDay', 'MakeAmericaGreatAgain', 'trump2016', 'MakeAmericaGreatAgain', 'Trump2016', 'KeepingItReal', 'virginiabeach', 'MakeAmericaGreatAgain', 'RT', 'CNN', 'HBO', 'RT', 'CNN', 'HBO', 'MakeAmericaGreatAgain', 'MTP', 'Trump2016', 'SNL', 'Trump', 'SNL', 'Trump', 'Reagan', 'MakeAmericaGreatAgain', 'MakeAmericaGreatAgain', 'Trump2016', 'MakeAmericaGreatAgain', 'RT', 'CNN', 'HBO', 'tcot', 'MakeAmericaGreatAgain', 'Trump2016', 'TrumpForPresident', 'Trump2016', 'Trump2016', 'Wisconsin', 'MakeAmericaGreatAgain', 'Trump2016', 'TRUMP', 'Trump2016', 'MakeAmericaGreatAgain', 'Periscope', 'Trump2016', 'Trump2016', 'trump2016', 'Trump2016', 'Trump2016', 'YomKippur', 'TRUMp2016', 'MakeAmericaGreatAgain', 'MakeAmericaGreatAgain', '1', 'OnTheRecord', 'AskTrump', 'AskTrump', 'AskTrump', 'asktrump', 'asktrump', 'asktrump', 'asktrump', 'asktrump', 'asktrump', 'asktrump', 'asktrump', 'asktrump', 'asktrump', 'AskTrump', 'AskTrump', 'TrumpForPresident', 'trainwreck', 'Trump2016', 'MakeAmericaGreatAgain', 'Trump2016', 'MakeAmericaGreatAgain', 'MakeAmericaGreatAgain', 'CNNDebate', 'CNNDebate', 'CNNDebate', 'CNNDebate', 'Trump2016', '1', 'MakeAmericasMilitaryGreatAgain', 'Trump2016', 'TeamTrump', 'Trump2016', 'Trump2016', 'MakeAmericaGreatAgain', 'thedonald', 'MakeAmericaGreatAgain', 'HUGE', 'Trump', 'Doonbeg', 'trump', 'MakeAmericaGreatAgain', 'realdonaldtrump', 'Trump2016', 'MakeAmericaGreatAgain', '1', 'GoGoGo', 'StopIranDeal', 'NoIranDeal', 'MakeAmericaGreatAgain', 'Trump2016', 'MakeAmericaGreatAgain', 'Trump2016', 'GOP', 'MakeAmericaGreatAgain', 'MakeAmericaGreatAgain', 'Trump2016', 'Election2016', 'Trump2016', 'MakeAmericaGreatAgain', 'Periscope', 'MakeAmericaGreatAgain', 'Trump2016', 'GOP', '1', 'TrumpOnCNN', 'Trump2016', 'MakeAmericaGreatAgain', 'Trump2016', 'MakeAmericaGreatAgain', '2016GOPNOMINATION', 'TRUMP2016', 'MAKEAMERICAGREATAGAI', 'MakeAmericaGreatAgain', 'Trump', 'Trump2016', 'MakeAmericaGreatAgain', 'OhMe', 'MakeAmericaGreatAgain', 'TeamTrump', 'usa', 'Trump', 'ToughTimes', 'ToughPRESIDENT', 'SilentMajority', 'Trump', 'IranDeal', 'ISIS', 'Trump', 'tcot', 'Election2016', 'MakeAmericaGreatAgain', 'DonaldTrumpForPresident', 'TrumpInAL', 'Trump2016', 'Trump2016', 'MakeAmericaGreatAgain', '1for', 'USA', 'America', 'MakeAmericaGreatAgain', 'TrumpRallyAL', 'AmericanPride', 'Trump2016', 'MakeAmericaGreatAgain', 'Hannity', '1', 'August', 'MakeAmericaGreatAgain', 'MakeAmericaGreatAgain', 'MakeAmericaGreatAgain', 'Trump2016', 'TRUMP2016', 'Periscope', 'MakeAmericaGreatAgain', 'Trump2016', 'MakeAmericaGreatAgain', 'GoTrump', 'MakeAmericaGreatAgain', 'MakeAmericaGreatAgain', 'IranDeal', 'MakeAmericaGreatAgain', 'trump2016', 'MakeAmericaGreatAgain', 'DonaldTrump', 'MakeAmericaGreatAgain', 'Trump2016', 'Republicanpresidentialdebate', 'Politics', 'GOPDebate', 'GOPDebate', 'MakeAmericaGreatAgain', 'SilentMajority', 'MakeAmericaGreatAgain', 'GOPdebate', 'GOPdebate', 'MakeAmericaGreatAgain', 'FoxDebate', 'RepublicanDebate', 'MakeAmericaGreatAgain', 'landslide', 'MakeAmericaGreatAgain', 'Trump2016', 'notapuppet', 'Trump', 'politician', 'tcot', 'StraightTalk', 'ccot', 'tcot', '2A', 'MakeAmericaGreatAgain', '17', 'KellyFile', 'WTF', 'GOP', 'GoTrump', 'GOP', 'VoteTrump', 'MakeAmericaGreatAgain', 'Trump2016', '2016election', 'Trump2016', 'TrumpIsRight', 'GoTrump', 'MakeAmericaGreatAgain', 'Trump2016', 'GOPDebate', 'Bush', 'MakeAmericaGreatAgain', 'MakeAmericaGreatAgain', 'Trump2016', 'Trump2016', 'Trump2016', 'MakeAmericaGreatAgain', 'MakeAmericaGreatAgain', 'Trump2016', 'POTUS', 'MakeAmericaGreatAgain', 'MakeAmericaGreatAgain', 'GoTrump', 'MakeAmericaGreatAgain', 'gop', 'Trump2016', 'MakeAmericaGreatAgain', 'Trump2016', 'TrumpForPresident', 'VoteTrump', 'ChangeTheWorldIn5Words', '1', 'MakeAmericaGreatAgain', 'IranDeal', 'MakeAmericaGreatAgain', 'Trump2016', 'GOP', 'MakeAmericaGreatAgain', 'MakeAmericaGreatAgain', 'Trump2016', 'Trump2016', '1', '1', '2', 'MakeAmericaGreatAgain', 'DonaldTrump', 'InterestingTimesAhead', 'Trump', 'MakeAmericaGreatAgain', 'Trump2016', 'BuildTheFence', 'MakeAmericaGreatAgain', 'POTUS', 'MakeAmericaGreatAgain', 'Trump2016', 'MakeAmericaGreatAgain', 'Trump2016', 'Twendency', '9pm', 'MakeAmericaGreatAgain', 'MakeAmericaGreatAgain', '1', 'DEBATE', 'MakeAmericaGreatAgain', 'MakeAmericaGreatAgain', 'MakeAmericaGreatAgain', 'Trump2016', 'Trump2016', 'CNN', 'Vets', 'GOP', 'MakeAmericaGreatAgain', 'GOP', 'Trump2016', 'MakeAmericaGreatAgain', 'GetItDone', 'MakeAmericaGreatAgain', 'Trump', 'McCain', 'GOP', 'MakeAmericaGreatAgain', 'africanamerican', 'USA', '2016election', 'Trump2016', 'Trump', 'TrumpForPresident', 'politicalcrap', 'Trump2016', 'Trump2016', 'DonaldWillBeTheGOPNominee', 'MakeAmericaGreatAgain', 'MakeAmericaGreatAgain', 'veterans', 'OReillyFactor', 'MakeAmericaGreatAgain', 'USA', 'Veterans', 'VA', 'Trump2016', 'TrumpForAmerica', 'MakeAmericaGreatAgain', 'TRUTH', 'TrumpTrain2016', 'FactCheck', 'QuitHatin', '1', '1', 'Trump2016', 'TrumpForPresident', 'MAKEAMERICAGREATAGAIN', 'SilentMajority', 'Iran', 'AdiosAmerica', 'MakeAmericaGreatAgain', 'Trump2016', '1', 'MakeAmericaGreatAgain', 'MakeAmericaGreatAgain', 'Trump2016', 'MakeAmericaGreatAgain', 'MakeAmericaGreatAgain', 'Truth', 'LetsMakeAmericaGreatAgain', 'Illegals', 'immigration', 'MakeAmericaGreatAgain', 'Trump2016', 'LETSDOTHISAMERICA', 'MakeAmericaGreatAgain', 'Trump2016', 'President', 'MakeAmericaGreatAgain', 'Trump2016', 'MakeAmericaGreatAgain', 'MAKEAMERICAGREATAGAIN', 'MakeAmericaGreatAgain', 'Trump2016', 'trumpforpresident', 'MakeAmericaGreatAgain', '2016', 'Trump', 'truthhurts', 'Trump', 'thedonald', 'trump', 'Trump', 'Trump2016', 'trumpforpresident', 'MakeAmericaGreatAgain', 'Trump2016', 'TrumpNation', 'TrumpForPresident', '1', 'Trump2016', 'ProudAmerican', 'Trump2016', 'MakeAmericaGreatAgain', 'Trump2016', 'PlayTheTrumpCard', 'backlash', 'Trump2016', 'ProudAmerican', 'NoLying', 'DonaldTrump', 'Trump2016', 'Trump2016', 'TrumpforTriumph', 'Seattle', 'Nashville', 'MakeAmericaGreatAgain', 'Trump2016', 'Eleccion2015', 'USA', 'GOP', 'cancelingmycard', 'obama', 'Trump2016', 'illegals', 'BoycottMacys', 'YouJustGotTrumped', 'WakeUpAmerica', 'BoycottMacys', 'Trump2016', 'MakeAmericaGreatAgain', 'MakeAmericaGreatAgain', 'TCOT', 'MAKEAMERICAGREATAGAIN', 'tcot', 'MakeAmericaGreatAgain', 'GotMyVote', 'Election2016', 'tcot', 'AdiosAmerica', 'GOP', 'GOP', 'Chicago', 'Trump2016', 'MakeAmericaGreatAgainThroughTrump', 'MakeAmericaGreatAgain', 'crushingit', 'DonaldTrumpforPresident', 'Obama', 'Trump2016', 'Trump2016', 'CORRUPT', 'MakeAmericaGreatAgain', 'MakeAmericaGreatAgain', 'DonaldTrump', 'foxandfriends', 'IBelieve', 'MakeAmericaGreatAgain', 'Trump2016', 'Trump2016', 'Trumpforpresident', 'MakeAmericaGreatAgain', 'Bush', 'Clinton', 'Trump2016', 'trump', 'Trump2016', 'MakeAmericaGreatAgain', 'Trump', 'Trump2016', 'Trump2016', 'Trump2016', 'MakeAmericaGreatAgain', 'MakeAmericaGreatAgain', 'MakeAmericaGreatAgain', 'Trump2016', 'Trump2016', 'Trump2016', 'Trump16', 'Trump2016', 'American', 'MakeAmericaGreatAgain', 'Trump2016', '2A', 'Trump2016', 'MakeAmericaGreatAgain', 'GotMyVote', 'MakeAmericaGreatAgain', 'greta', 'thedonald', 'TrumpVlog', 'power', 'donaldtrump', 'MakeAmericaGreatAgain', 'TheDonIsComing', 'TrumpCard', 'Vets4Trump', 'Trump2016', 'Trump2016', 'PresidentTrump', 'Letstalkbusiness', 'FITN', 'MakeAmericaGreatAgain', 'MakeAmericaGreatAgain', 'MakeAmericaGreatAgain', 'MakeAmericaGreatAgain', 'Periscope', 'MakeAmericaGreatAgain', 'MakeAmericaGreatAgain', 'MakeAmericaGreatAgain', 'MakeAmericaGreatAgain', 'Trump2016', 'TrumpLeeds2016', 'Trump2016', 'Trump4President', 'Trump2016', 'TRUMP', '2016', 'Trump4President', 'Trump2016', 'Trump4President', 'Trump2016', 'Periscope', 'MakeAmericaGreatAgain', 'POTUS', 'TRUMPCARES', 'SimpleTruth', 'MakeAmericaGreatAgain', 'Trump2016', 'MakeAmerciaGreatAgain', 'MakeAmericanGreatAgain', 'Trump2016', 'MakeAmericaGreatAgain', 'Trump2016', 'TRUMP2016', 'NoBama', 'Trump2016', 'TRUMP2016', 'TRUMP2016', 'JebBush2016', 'Election2016', 'DonaldTrump', 'DonaldTrump', 'Election2016', 'GOP', 'Politics', 'throwbackthursday', 'wellness', 'MidasTouch', 'ThankYou', 'NCGOPConvention', 'MyManTrump2016', 'NCGOPCon', 'NCGOPCon', 'NCGOPcon', 'NCGOPcon', 'NCGOPcon', 'NCGOPcon', 'NCGOPcon', 'GettingReal', 'NCGOPcon', '7', 'Trump2016', 'June16th', 'Trump2016', 'CommanderInChief', 'quote', 'trump2016', 'Trump2016', 'you', 'VOTE', 'Trump2016', 'justrunbaby', 'Trump2016', 'Trump2016', 'MakeAmericaGrateAgain', 'Tump2016', 'MakeAmericaGreatAgain', 'Trump2016', 'Trump2016', 'Trump2016', 'TrumpForPresident', 'MakeSureYouVote', 'trumpforprez', 'Empire', 'Trump2016', 'PleaseRun', 'Thanks', 'YouHaveMyVote', 'MakingTheCase', 'ElvisOnTopoftheWorld', 'trumpforprez', 'trumpforprez', 'Trump2016', 'Greta', 'golf', 'MakeAmericaGreatAgain', '2016', 'Trump2016', 'ARealLeader', 'USA', 'Navy', 'Army', 'Marines', 'CoastGuard', 'Trump2016', 'MakeAmericaGreatAgain', 'Trump2016', 'TrumpForPresident', 'trump2016', 'MakingAmericaGreatAgain', 'GrandOpening', 'FreeBrady', 'Trump2016', 'Trumpforpresident', 'Trump2016', 'Trumpforpresident', 'GDNY', 'Trump2016', 'Leadership', 'Trump2016', 'MakeAmericaGreatAgain', 'Tump2016', 'congrats', 'Christians', 'DonaldTrump', 'GoBigUSA', 'DT2016', 'Trump2016', 'Trump2016', 'TRUMP', 'Trump2016', 'Trump2016', 'POTUS', 'VoteTrump2016', 'make', 'DonaldTrump2016', 'Trump2016', 'Trump4Prez', 'uwillwin', 'SmartNews', 'TRUMPMYPRESIDENT', 'DT2016', 'DonaldTrump2016', 'Trump2016', 'DT2016', 'TRUMPMYPRESIDENT', 'Trump2016', 'Trump16', 'trump2016', 'Trump2016', 'KellyFile', 'KellyFile', 'THINKBIG', 'TimeToGetTough', 'trumpthecompetition', 'KellyFile', '2016presidential', 'theapprentice', 'trump2016', 'TrumpForPresident', 'NeverGiveUp', 'TRUMP2016', 'Golf', 'trump4president', 'HiddenHeroes', 'alleras', 'HiddenHeroes', 'Symbolism', 'Patriotic', 'GoBig', 'trump2016', 'trumpforpresident', 'MakeAmericaGreatAgain', 'trump2016', 'trumpforpresident', 'TRUMP', 'TimeToGetTough', 'MakeAmericaGreatAgain', 'Trump2016', 'tramp', 'LincolnDinner', 'gotmyvote', 'WorldChampion', 'RebuildAmerica', 'tcot', 'NH', 'business', 'GunRights', 'TCOT', 'FITN', 'Trump2016', 'HappyBirthdayYogiBerra', 'ImprovedSinceLastYear', 'Lovely', 'Trump2016', 'TrumpVlog', 'patriots', 'Chicago', 'Trump2016', 'MothersDay', 'Trump2016', 'googleit', 'Trump2016', 'Bigger', 'Better', 'Stronger', 'Faster', 'Smarter', 'Richer', 'WINNER', 'Trump2016', 'TrumpAdvice', 'TBT', 'AHIC2015', 'TheDonald', 'TrumpAdvice', 'Ayrshire', 'Wellconnected', 'trump2016', 'timeforPROgress', 'Trump2016', 'TrumpForPresident2016', 'fixtheUSA', 'trump2016', 'EatingOurLunch', 'gotmilk', '2016', 'Trump2016', 'Trump2016', 'Trump2016', 'Trump2016', 'MayThe4thBeWithYou', 'donaldforpresident', 'MayweatherPacquiao', 'Trump2016', 'MakeAmericaGreatAgain', 'Trumptforpresident', 'quote', 'MakeAmericaGreatAgain', 'Trump2016', 'Tump2016', 'Trump2016', 'Chicago', 'Scotland', 'travel', 'golf', 'makeamericagreatagain', 'Trump', 'Trump16', 'Trump2016', 'trumpdoral', 'agreatcause', '1', 'Baltimore', 'TrumpAdvice', 'WHCD', 'SheldonAdelson', 'TRUMP', 'Champion', 'goodmorning', 'Godspeed', 'nhpolitics', 'FITN', 'PresidentTrump', 'Trump2016', 'MakeAmericaGreatAgain', 'TrumpAdvice', '37years', 'SouthAfrican', 'notgood', 'TrumpAdvice', '4prez', 'Trump2016', 'trumpisawesome', 'trumpcard', 'capitalism', 'Trump2016', 'Trump2016', 'TrumpForPresident', 'Trump2016', 'presskit', 'yardsigns', 'Trump2016', 'donaldtrump2016', 'TBT', '1', 'fitn', 'nhpolitics', 'Trump2016', 'Trump2016', 'truth', 'Trump2016', 'Trump2016', 'POTUS2016', 'MakeAmericaGreatAgain', 'TimeToGetTough', 'MakeAmericaGreatAgain', 'TrumpTurnberry', 'FITN', 'Trump2016', 'VOTEFORTRUMP', 'Trump2016', 'TrumpVlog', 'Trump2016', 'National', 'thetrump', 'Trump2016', 'gdny', 'Trump2016', 'fantastic', 'businessman', 'magnate', 'emulate', 'MASTERPIECE', 'CHICAGO', 'negotiation', 'GOP', 'FITN', 'Trump2016', 'GOP', 'Trump2016', 'trumpforpresident', 'GOP', '2016', 'Trump2016', 'donaldtrump2016', 'FITN', 'NHforTrump', 'Trump2016', 'weneedyou', 'Trump2016', 'firebrittmchenry', 'architecture', 'nyc', 'quote', 'SpecialReport', 'Trump2016', 'quotes', 'realestate', 'homes', 'blog', 'buyingtips', 'FNPolitics', 'FITN', 'trump2016', 'savesaeed', 'Iran', 'trumpforpresident', 'Trump2016', 'Trump2016', 'TheApprentice', 'Vancouver', 'TeaParty', 'DONALDJTRUMP', 'MAKEAMERICAGREATAGAIN', 'American', 'Empire', 'MakeAmericaGreatAgain', 'DonImus', 'WakeUpAmerica', 'Win', 'Hillary', 'TBT', 'FITN', 'michael', 'TrumpForPresident', 'Trump2016', 'TheApprentice', 'Trump2016', 'Trump2016', 'Trump2016', 'nhpolitics', 'Trump2016', '2016', 'President', 'Trump2016', 'America', 'CaptainAmerica', 'Trump2016', 'european', 'USA', 'Trump2016', 'Trump2016', 'MrTrump', 'Trump2016', 'trumplife', 'cantwait', '2016', 'realdonaldtrump', 'chs', 'Trump2016', 'Trump2016', 'Trump2016', 'Trump2016', 'makeamericagreatwithTrump', 'Trump2016', 'Trump2016', 'CLASS', 'STYLE', 'WhyImNotVotingForHillary', 'Trumps', 'Trump2016', 'Trump2016', 'gotrump', '2016', 'Trump2016', 'Trump2016', 'Trump2016', 'Trump2016', 'jobs', 'Trump4Prez', 'goodTV', 'jobs', 'javitzsucks', 'carshow', 'Trump4Prez', 'Trump4Prez', 'TeamAmerica', 'comeflywithme', 'Trump2016', 'Trumpmeister', 'Trumpmeister', 'Trump4Prez', 'Trump2016', 'Trump2016', 'Trump2016', 'custserv', 'FriendlyFriday', 'Hillary2016', 'Trump2016', 'RunDonaldRun', 'FoxNews', 'RunTrumpRun', 'MakeAmericaGreatAgain', 'Nashville', 'Tennessee', 'inspiration', 'RoleModel', 'lookinggreat', 'trumpturnberry', 'VoteTrumpForPresident', 'Trump', 'Trump2016', 'speech', 'politician', 'Vote', 'trump4prez', 'TrumpTennis', 'woohoo', 'Trump2016', 'Teens4Trump', 'Trump2016', 'hopeisagoodbreakfast', 'Trump', 'Trump2016', 'trumpforpresident', 'SharkTank', 'Trump2016', 'kingofthedeal', 'ROL15', 'TrumpAdvice', 'Trump2016', 'RightMan', 'RightNow', 'RightVote', 'Everyone', 'ArtOfTheDeal', 'theartofthedeal', 'howtogetrich', 'Trump2016', 'Aspergers', 'Autism', 'Iran', 'FITN', 'TrumpVlog', 'LEGENDS', 'Trump', 'Economy', 'oreillyfactor', 'inspired', 'politician', 'America', 'RealBusinessMan', 'thesmartguy', 'America', 'savvy', 'optimism', 'pride', 'STRONG', 'LEADER', 'Elect2016', 'oreillyfactor', 'oreillyfactor', 'oreillyfactor', 'Trump2016', 'TrumpForPresident', 'foxandfriends', 'TrumpForPresident', 'foxandfriends', 'Toronto', 'ACdinner15', 'Trump2016', 'trumpforprez', 'Spa', 'irishgirl', 'Donaldtrump', 'lovetrump', 'Ireland', 'trumphotel', '1', 'Trump2016', 'Election2016', 'Trump2016', '2016', 'tourists', 'hotel', 'residence', 'iBusinessLounge', 'Business', 'AMustReadBook', 'GoodAdvice', 'bestofthebest', 'Trump2016', 'president', 'Trump2016', 'FORREAL', 'trumpforpresident', 'betteramerica', 'Trump2016', 'Trump2016', 'AllTheWay', 'VoteTrump', 'Trump2016', 'KellyFile', 'VoteTrump', 'nhpolitics', 'Spring', 'TedCruz', 'PresidentTrump', 'UnionStation', 'Toronto', 'trumpforpresident', 'TrumpPets', 'helpful', 'Trump2016', 'America', 'trumpforpresident', 'Trump2016', 'NYC', 'GoodFamily', 'GDNY', 'trumpforpresident', 'Trump2016', 'President', 'LIUB', 'Trump2016', 'Trump2016', 'jobsmatter', 'trump', 'TeamTrump', 'morningsarebetterwithfriends', 'NYC', 'CelebrityApprentice', 'TCOT', 'CCOT', 'learn', 'GoodAdviceIn4Words', 'LongBeach', 'MeetinLB', 'AbsoluteIcon', 'topnotch', 'TrumpFerryPoint', 'PGA', 'TheApprentice', 'Trump', 'TrumpForPresident', 'TrumpForPresident', 'Doral', 'mayorluigiboria', 'TrumpforPresident', 'Trump2016', 'economy', '2016', 'trumpworthy', 'Trump2016', 'CPAC', 'CPAC2015', 'REALTIME', 'CPAC2015', 'TBT', 'FITN', 'MakeAmericaGreatAgain', 'Oscars', 'foxandfriends', 'CPAC2015', 'foxandfriends', 'hero', 'FOXAndFriends', 'Foxabdfriends', 'ObamaLovesAmerica', 'Powerful', 'QuoteOfTheDay', 'globalwarming', 'VoteForTrump', 'TrumpForPresident', 'VoteForTrump', 'TrumpForPresident', 'VoteForTrump', 'Trump16', 'TrumpChicago', 'Doonbeg', 'quote', 'CelebApprentice', 'CelbrityApprentice', 'MakingADifference', 'TheApprentice', 'Hurryback', 'NewCast', 'HelpingCharity', 'CelebApprentice', 'CelebrityApprentice', 'CELEBRITYAPPRENTICE', 'Trump2016', 'USA', 'trump2016', 'CelebrityApprentice', '1', 'CelebrityApprentice', 'TRUMP', 'CelebrityApprentice', 'Celebrityapprentice', 'TrumpGolf', 'TrumpNationalCharlotte', '1stclass', 'president2016', 'realestate', 'successfactors', 'Inspirational', 'AKMumpreneur', 'tgdn', 'tcot', 'CelebrityApprentice', 'TBT', 'FireBrianWilliams', 'celebrityapprentice', 'CelebrityApprentice', 'DonaldTrump', 'RosieODonnell', 'celebrityapprentice', 'oreillyfactor', 'Educative', 'Informative', 'Sharpton', 'Trump2016', 'CelebApprentice', 'CelebrityApprentice', 'CelebrityApprentice', 'CelebrityApprentice', 'CelebrityApprentice', 'YourFired', 'CelebrityApprentice', 'LifesWORC', 'CelebApprentice', 'CelebrityApprenticewinner2015', 'CelebrityApprentice', 'CelebrityApprentice', 'celebapprentice', 'classy', 'CelebrityApprentice', 'CelebrityApprentice', 'CelebrityApprentice', 'CelebApprentice', 'CelebrityApprentice', 'readyforthethrowdown', 'Feuds', 'Fails', 'damn', 'great', 'CelebrityApprentice', 'Apprentice', 'Trump', 'Pokerplayer', 'TheBachelor', 'AmericanValues', 'CelebrityApprentice', 'Misunderstood', 'CelebrityApprentice', 'CelebApprentice', 'CelebrityApprentice', 'Trump2016', 'CelebrityApprentice', 'CelebrityApprentice', 'CelebApprentice', 'CelebApprentice', 'Imeanit', 'CelebApprentice', 'CelebApprentice', 'inspirational', 'snake', 'Trump2016', 'MissLithuania', 'MissU', 'CelebrityApprentice', 'celebrityapprentice', 'trump2016', 'leadership', 'CPAC2015', 'FlashbackFriday', 'AskTheDonald', 'Doral', 'CelebrityApprentice', '1', 'CelebApprentice', '_WojuBeforeYouVote', 'GhettoFabulous', 'donaldforpresident', 'classact', 'CelebrityApprentice', 'LuvIt', 'Funny', 'Blessings', 'CelebrityApprentice', 'RIP', 'CelebApprentice', 'gonetoosoon', 'JoanRivers', 'CelebApprentice', 'CelebApprentice', 'Humor', 'TheApprentice', 'CelebApprentice', 'CelebrityApprentice', 'Prez', 'Tump2016', 'CelebApprentice', 'CelebrityApprentice', 'CelebApprentice', 'CelebrityApprentice', 'Phonegate', 'CelebApprentice', 'CelebrityApprentice', 'Trump2016', 'CelebrityApprentice', 'CelebApprentice', 'FABULOUS', 'tweetgate', 'celebrityapprentice', 'Trump2016', '1', '1', 'billionare', 'YVNCG', 'CelebrityApprentice', '5', 'TravelersChoice', 'TrumpVlog', 'IndianaJones', 'Ghostbusters', 'gotmyvote', 'newyorkpost', 'tcot', 'CelebrityApprentice', 'president', 'teamdonaldtrump', 'Phonegate', 'CelebApprentice', 'CelebrityApprentice', 'CelebrityApprentice', 'justamatteroftime', 'ratings', 'CelebApprentice', 'CelebApprentice', 'celebrityapprentice', 'CelebApprentice', 'CelebrityApprentice', 'CelebApprentice', 'DamonKnowsWinning', 'CelebApprentice', 'rhoa', 'CelebApprentice', 'CelebrityApprentice', 'TheApprentice', 'CelebrityApprentice', 'CelebApprentice', 'whatjusthappened', 'celebrityapprentice', 'CelebrityApprentice', 'GivesHisAll', 'CelebrityApprentice', 'CelebrityApprentice', 'Donald4Pres', 'CelebApprentice', 'Snowmageddon2015', 'CelebrityApprentice', 'RedTiger', '1', 'TravelersChoice', 'MissUniverse', 'SleepyEyes', 'CelebrityApprentice', 'GOP', 'great', 'MissUniverse', 'TheBachelor', 'SaveCulzean', 'USA', 'THAILAND', 'COLUMBIA', 'SPAIN', 'JAMAICA', 'MissUniverse', 'Usa', 'Colombia', 'MyPassion', 'TBT', 'SOTU', 'SCTeaParty15', 'TrumpVlog', 'MissUniverse', 'SOTU2015', 'foxnewsfacts', 'facts', 'CelebApprentice', 'celebrityapprenctice', 'CelebApprentice', 'CelebApprentice', 'CelebApprentice', 'teambrandi', 'ApprenticeNBC', 'CelebApprentice', 'CelebApprentice', 'CelebApprentice', 'icon', 'takenotes', 'CelebrityApprentice', 'CelebrityApprentice', 'yourfired', 'CelebApprentice', 'CelebrityApprentice', 'TheApprentice', 'CelebrityApprentice', 'CelebrityApprentice', 'lovestowin', 'willlovetheshoes', 'CelebApprentice', 'donaldtrumprocks', 'CelebrityApprentice', 'CelebrityApprentice', 'JoanRivers', 'CelebApprentice', 'CelebApprentice', 'CelebApprentice', 'TrumpForPresident', 'CelebrityApprentice', 'CelebrityApprentice', 'CelebrityApprentice', 'NBC', 'RIVERS', 'TeamBrandi', 'PatriotsVSColts', 'MissUniverse', 'Chicago', 'MissUniverse', 'YourTimeIsNow', 'savior', 'TheApprentice', 'CelebrityApprentice', 'yourfired', 'trumprocks', 'TCA15', 'SCTeaParty15', 'TCA15', 'BestShowersEver', 'CelebrityApprentice', 'CelebApprentice', 'Akoya', 'Dubai', 'CelebApprentice', 'prez', 'CelebApprentice', 'CelebApprentice', 'CelebApprentice', 'CelebApprentice', 'favorite', 'TheApprentice', 'CelebApprentice', 'CelebApprentice', 'CelebApprentice', 'CelebApprentice', 'CelebApprentice', 'CelebApprentice', 'CelebApprentice', 'CelebApprentice', 'CelebApprentice', 'TeamVortex', 'TeamInfinity', 'CelebApprentice', 'CelebApprentice', 'CelebApprentice', 'CelebApprentice', 'CelebApprentice', 'gameplan', 'RunJohnnyRun', 'TeamIan', 'Miami', 'CelebApprentice', 'CommonSenseMan', 'DowntonAbbey', 'BingeViewer', 'Presidenttrump', 'CelebrityApprentice', 'CelebrityApprentice', 'DonaldTrump', 'TheApprentice', 'runforprez', 'classic', 'VoteRed', '2016', '2016', 'trump2016', '2ndamendment', 'President', 'TheDonaldForPres', 'Trump2016', 'Trump4President', 'CelebrityApprentice', 'CelebrityApprentice', 'Bonding', 'Letterman', 'DonaldTrump', 'CelebrityApprentice', 'CelebrityApprentice', 'CelebrityApprentice', 'CelebrityApprentice', '2a', 'CelebrityApprentice', 'TBT', 'JonathanAldridge', 'DonaldTrump', '1', '1', 'trump2016', 'TRUMP2016', 'Work', 'Trump16', 'Trump16', 'trump2016', 'Trump16', 'Trump16', 'Trump16', 'Trump16', 'Trump16', 'Trump16', 'Trump2016', 'trump2016', 'Trump2016', 'trump2016', 'Trump16', 'CelebrityApprentice', 'trump2016', 'WhereHaveIBeen', 'respect', 'CelebrityApprentice', 'CelebApprentice', 'CelebApprentice', 'CelebApprentice', 'TheApprentice', 'teambrandi', 'CelebApprentice', 'someonepunchgeraldo', 'CelebApprentice', 'teambrandi', 'Luvo', 'JustSaying', 'CelebrityApprentice', 'CelebrityApprentice', 'foreal', 'CelebApprentice', 'CelebApprentice', 'CelebApprentice', 'NBC', 'CelebApprentice', 'CelebrityApprentice', 'CelebrityApprentice', 'CelebApprentice', 'CelebApprentice', 'CelebApprentice', 'CelebApprentice', 'CelebApprentice', 'CelebrityApprentice', 'CelebrityApprentice', 'CelebApprentice', 'CelebrityApprentice', 'CelebApprentice', 'CelebrityApprentice', 'CelebApprentice', 'goodstuff', 'yourfired', 'CelebApprentice', 'TeamLeeza', 'CelebApprentice', 'CelebrityApprentice', 'TheApprentice', 'Trump2016', 'CelebrityApprentice', 'CelebApprentice', 'CelebrityApprentice', 'pleasegetfired', 'CelebApprentice', 'TeamLeeza', 'CelebApprentice', 'CelebrityApprentice', 'CelebApprentice', 'CelebApprentice', 'CelebApprentice', 'MostIntelligentRealityShow', 'CelebApprentice', 'TeamBrandi', 'TeamKevin', 'CelebApprentice', 'CelebApprentice', 'CelebApprentice', 'TeamBrandi', 'CelebApprentice', 'CelebApprentice', 'CelebApprentice', 'westcoast', 'CelebApprentice', 'CelebApprentice', 'CelebrityApprentice', 'CelebApprentice', 'CelebrityApprentice', 'notlazy', 'CelebApprentice', 'datenight', 'takeaselfie', 'CelebApprentice', 'TRUMP', 'Apprentice', 'CelebApprentice', 'bighead', 'big', 'ego', 'CelebApprentice', 'CelebApprentice', 'CelebApprentice', 'truth', 'TheApprentice', 'TeamKenya', 'CelebApprentice', 'CelebApprentice', 'CelebApprentice', 'CelebApprentice', 'CelebrityApprentice', 'CelebApprentice', 'CelebrityApprentice', 'CelebrityApprentice', 'catfight', 'CelebrityApprentice', 'CelebApprentice', 'CelebApprentice', 'trumpforpresident2016', 'CelebApprentice', 'CelebApprentice', 'CelebApprentice', 'CelebApprentice', 'CelebApprentice', 'CelebApprentice', 'CelebApprentice', 'CelebApprentice', 'CelebApprentice', 'Apprentice', 'CelebrityApprentice', 'CelebApprentice', 'TeamKevin', 'AskKevin', 'poorthing', 'DidYouSeeThat', 'CelebApprentice', 'TeamKevin', 'celebapprentice', 'askkevin', 'teamkevin', 'CelebApprentice', 'CelebrityApprentice', 'CelebrityApprentice', 'CelebApprentice', 'WorkHard', 'Win', 'YoureFired', 'CelebrityApprentice', 'saveSKsocial', 'CelebApprentice', 'CelebrityApprentice', 'thecelebrityapprentice', 'nbc', 'CelebApprentice', 'CelebApprentice', 'CelebApprentice', 'CelebApprentice', 'CelebApprentice', 'CelebrityApprentice', 'CelebApprentice', 'CelebApprentice', 'TeamGilbert', 'CelebApprentice', 'ticktock', 'ApprenticeNBC', 'CelebrityApprentice', 'CelebApprentice', 'thecelebrityapprentice', 'TeamLeeza', 'SharkTankNation', 'Restaurantstartup', 'theprofit', 'CelebrityApprentice', 'unstoppable', 'makeithappen', 'getoffmyTV', 'TeamLeeza', 'TeamLeeza', 'CelebApprentice', 'CelebApprentice', 'CelebrityApprentice', 'CelebApprentice', 'CelebApprentice', 'Apprentice', 'excited', 'TVgeek', 'saveoursouls', 'TRUMP', 'trump2016', 'TrumpForPresident', 'CelebrityApprentice', 'HomeAlone2', 'Trumpfan', 'TrumpForPresident', 'TrumpPOTUS2016', 'HappyNewYear', 'CelebrityApprentice', '2016', 'WinningTicket2016', 'TrumpCruz2016', 'CelebApprentice', 'Hasmyrespect']\n"
     ]
    }
   ],
   "source": [
    "hashtags = get_hashtags(raw_data)\n",
    "print hashtags"
   ]
  },
  {
   "cell_type": "code",
   "execution_count": 97,
   "metadata": {},
   "outputs": [],
   "source": [
    "def get_mentions(raw_data):\n",
    "    mentions = []\n",
    "    for line in raw_data['synopsis']:\n",
    "        if len(re.findall(\"@([a-zA-Z0-9]{1,15})\", line)) > 0:\n",
    "            mentions += re.findall(r\"@(\\w+)\", line)\n",
    "    return mentions"
   ]
  },
  {
   "cell_type": "code",
   "execution_count": 130,
   "metadata": {},
   "outputs": [],
   "source": [
    "# mentions = get_mentions(raw_data)"
   ]
  },
  {
   "cell_type": "code",
   "execution_count": 105,
   "metadata": {},
   "outputs": [],
   "source": [
    "def get_URLs(raw_data):\n",
    "    URLs = []\n",
    "    for line in raw_data['synopsis']:\n",
    "        URL = re.findall('http[s]?://(?:[a-zA-Z]|[0-9]|[$-_@.&+]|[!*\\(\\),]|(?:%[0-9a-fA-F][0-9a-fA-F]))+', line)\n",
    "        if len(URL) > 0:\n",
    "            URLs += URL\n",
    "    return URLs"
   ]
  },
  {
   "cell_type": "code",
   "execution_count": 129,
   "metadata": {},
   "outputs": [],
   "source": [
    "# URLs = get_URLs(raw_data)"
   ]
  },
  {
   "cell_type": "code",
   "execution_count": 128,
   "metadata": {},
   "outputs": [
    {
     "name": "stdout",
     "output_type": "stream",
     "text": [
      "Tweet from cluster 0:\n",
      "Remember to think small.\n",
      "\n",
      "Tweet from cluster 1:\n",
      "#AmericaFirst… https://t.co/6k7qP9X8nC Thank you New Hampshire!\n",
      "\n",
      "Tweet from cluster 2:\n",
      "We're a very exciting times.\n",
      "\n",
      "Tweet from cluster 3:\n",
      "We are w/ you tomorrow, and we are going to watch anymore.\n",
      "\n",
      "Tweet from cluster 4:\n",
      "Who knows?. You know they are doing....\n",
      "\n",
      "Tweet from cluster 5:\n",
      "Together, WE WILL WIN! https://t.co/2XBs5SSRC3 Join me live in Louisiana!\n",
      "\n",
      "Tweet from cluster 6:\n",
      "In many cases, by the Chinese government and safety to our country.\n",
      "\n",
      "Tweet from cluster 7:\n",
      "#MakeAmericaGreatAgain #Trump2016 https://t.co/uo287ZGvvQ Thank you- Nashua, New Hampshire!\n",
      "\n",
      "Tweet from cluster 8:\n",
      "I am running to be our partner in this incredible journey.\n",
      "\n",
      "Tweet from cluster 9:\n",
      "Thank you, everybody, thank you.\n",
      "\n",
      "Tweet from cluster 10:\n",
      "You have the best and most vicious ever.\n",
      "\n",
      "Tweet from cluster 11:\n",
      "We are proud of you.\n",
      "\n",
      "Tweet from cluster 12:\n",
      "This is America, this is the highest it's been in 45 years.\n",
      "\n",
      "Tweet from cluster 13:\n",
      "They said Donald Trump the questions to the eternal capital of the Jewish people, Jerusalem.\n",
      "\n",
      "Tweet from cluster 14:\n",
      "She is so incredible that you want for your campaign.\n",
      "\n"
     ]
    }
   ],
   "source": [
    "# generate a tweet for each cluster\n",
    "for x in xrange(0, 15):\n",
    "    print \"Tweet from cluster \" + str(x) + \":\"\n",
    "    generate_markov_tweet(x, 1, 2, 100, 10) "
   ]
  }
 ],
 "metadata": {
  "kernelspec": {
   "display_name": "Python 2",
   "language": "python",
   "name": "python2"
  },
  "language_info": {
   "codemirror_mode": {
    "name": "ipython",
    "version": 2
   },
   "file_extension": ".py",
   "mimetype": "text/x-python",
   "name": "python",
   "nbconvert_exporter": "python",
   "pygments_lexer": "ipython2",
   "version": "2.7.13"
  }
 },
 "nbformat": 4,
 "nbformat_minor": 2
}
